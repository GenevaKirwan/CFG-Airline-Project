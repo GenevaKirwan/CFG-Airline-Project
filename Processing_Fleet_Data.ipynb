{
  "nbformat": 4,
  "nbformat_minor": 0,
  "metadata": {
    "colab": {
      "name": "Processing_Fleet_Data.ipynb",
      "provenance": [],
      "authorship_tag": "ABX9TyN1swf30K0N+0aOz8Kc6v4f",
      "include_colab_link": true
    },
    "kernelspec": {
      "name": "python3",
      "display_name": "Python 3"
    },
    "language_info": {
      "name": "python"
    }
  },
  "cells": [
    {
      "cell_type": "markdown",
      "metadata": {
        "id": "view-in-github",
        "colab_type": "text"
      },
      "source": [
        "<a href=\"https://colab.research.google.com/github/GenevaKirwan/CFG-Airline-Project/blob/Test-2/Processing_Fleet_Data.ipynb\" target=\"_parent\"><img src=\"https://colab.research.google.com/assets/colab-badge.svg\" alt=\"Open In Colab\"/></a>"
      ]
    },
    {
      "cell_type": "code",
      "metadata": {
        "id": "1EDU6dfwLh2x"
      },
      "source": [
        ""
      ],
      "execution_count": null,
      "outputs": []
    },
    {
      "cell_type": "markdown",
      "metadata": {
        "id": "iMUsJZFdPqrd"
      },
      "source": [
        "Test 2: I have also made some changes"
      ]
    },
    {
      "cell_type": "markdown",
      "metadata": {
        "id": "NGHlgCleNmAW"
      },
      "source": [
        "Test 1: Made some changes"
      ]
    }
  ]
}