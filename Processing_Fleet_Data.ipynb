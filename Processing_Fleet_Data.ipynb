{
 "cells": [
  {
   "cell_type": "markdown",
   "metadata": {
    "colab_type": "text",
    "id": "view-in-github"
   },
   "source": [
    "<a href=\"https://colab.research.google.com/github/GenevaKirwan/CFG-Airline-Project/blob/Test-1/Processing_Fleet_Data.ipynb\" target=\"_parent\"><img src=\"https://colab.research.google.com/assets/colab-badge.svg\" alt=\"Open In Colab\"/></a>"
   ]
  },
  {
   "cell_type": "markdown",
   "metadata": {
    "id": "1EDU6dfwLh2x"
   },
   "source": [
    "# Retrieving and Cleansing Fleet Data"
   ]
  },
  {
   "cell_type": "markdown",
   "metadata": {},
   "source": [
    "The aim of this code is to web-scrape fleet data tables from https://data.freshaviation.co.uk/airlines/ and cleanse the data to minimise the size of the resultant dataframe. The data source details every plane owned by each airline, however what I need is the number of each aircraft type so I can compare this 'fleet portfolio' with the emmisions data."
   ]
  },
  {
   "cell_type": "markdown",
   "metadata": {},
   "source": [
    "## Web Scraping Precautions"
   ]
  },
  {
   "cell_type": "markdown",
   "metadata": {},
   "source": [
    "I checked the data source website for a robots.txt file to check for any bot limitations before starting but there was no file present. Regardless, when scraping the data I will still include a 10 secs waiting time before retrieving data to make sure I don't overload the site."
   ]
  },
  {
   "cell_type": "markdown",
   "metadata": {},
   "source": [
    "## Initial tests and familiarisation with webscraping and BeautifulSoup"
   ]
  },
  {
   "cell_type": "markdown",
   "metadata": {},
   "source": [
    "I ran the quick check below with requests to see if I was successfully retrieving the page from the site."
   ]
  },
  {
   "cell_type": "code",
   "execution_count": 1,
   "metadata": {
    "id": "NGHlgCleNmAW"
   },
   "outputs": [
    {
     "name": "stdout",
     "output_type": "stream",
     "text": [
      "b'<!DOCTYPE html>\\r\\n<html lang=\"en\">\\r\\n\\r\\n<head>\\r\\n\\t<meta charset=\"utf-8\">\\r\\n\\t<meta name=\"viewport\" content'\n"
     ]
    }
   ],
   "source": [
    "import requests\n",
    "url = 'https://data.freshaviation.co.uk/view-airline/American%20Airlines/'\n",
    "\n",
    "r = requests.get(url)\n",
    "\n",
    "print(r.content[:100])"
   ]
  },
  {
   "cell_type": "markdown",
   "metadata": {},
   "source": [
    "I also practised with BeautifulSoup to retrieve information from the right part of the relevant table. This took quite a bit of tweaking as it was my first time using CSS selector and BeautifulSoup syntax. Within this code I am pulling the name and IDs for the airlines. this will be useful in stitching my data with the data produced by the rest of the team (if necessary)"
   ]
  },
  {
   "cell_type": "code",
   "execution_count": 2,
   "metadata": {},
   "outputs": [
    {
     "name": "stdout",
     "output_type": "stream",
     "text": [
      "ICAO: AAL\n",
      "IATA: AA\n"
     ]
    }
   ],
   "source": [
    "from bs4 import BeautifulSoup\n",
    "import csv\n",
    "\n",
    "soup = BeautifulSoup(r.content, 'html.parser')\n",
    "\n",
    "IDs = soup.select('table tr td')[3].text.split(' / ')\n",
    "Name = soup.select('table tr td')[1].text\n",
    "ICAO = IDs[0]\n",
    "IATA = IDs [1]\n",
    "print('ICAO: ' + ICAO + '\\n' + 'IATA: ' + IATA)"
   ]
  },
  {
   "cell_type": "markdown",
   "metadata": {},
   "source": [
    "## Final Code and Walkthrough"
   ]
  },
  {
   "cell_type": "markdown",
   "metadata": {},
   "source": [
    "The page URLS are generated into the URLs we will need to call from in the code below. "
   ]
  },
  {
   "cell_type": "code",
   "execution_count": 5,
   "metadata": {},
   "outputs": [
    {
     "data": {
      "text/plain": [
       "['https://data.freshaviation.co.uk/view-airline/American%20Airlines/',\n",
       " 'https://data.freshaviation.co.uk/view-airline/Southwest%20Airlines/',\n",
       " 'https://data.freshaviation.co.uk/view-airline/Delta%20Air%20Lines/',\n",
       " 'https://data.freshaviation.co.uk/view-airline/United%20Airlines/',\n",
       " 'https://data.freshaviation.co.uk/view-airline/Spirit%20Airlines/',\n",
       " 'https://data.freshaviation.co.uk/view-airline/Alaska%20Airlines/',\n",
       " 'https://data.freshaviation.co.uk/view-airline/JetBlue%20Airways/',\n",
       " 'https://data.freshaviation.co.uk/view-airline/SkyWest%20Airlines/',\n",
       " 'https://data.freshaviation.co.uk/view-airline/Frontier%20Airlines/',\n",
       " 'https://data.freshaviation.co.uk/view-airline/Hawaiian%20Airlines/']"
      ]
     },
     "execution_count": 5,
     "metadata": {},
     "output_type": "execute_result"
    }
   ],
   "source": [
    "airlines = ['American Airlines', 'Southwest Airlines', 'Delta Air Lines', 'United Airlines', 'Spirit Airlines', 'Alaska Airlines', 'JetBlue Airways', 'SkyWest Airlines', 'Frontier Airlines', 'Hawaiian Airlines']\n",
    "urls = []\n",
    "\n",
    "for airline in airlines:\n",
    "    urls.append('https://data.freshaviation.co.uk/view-airline/' + airline.replace(' ','%20') + '/')\n",
    "    \n",
    "urls"
   ]
  },
  {
   "cell_type": "markdown",
   "metadata": {},
   "source": [
    "Next I am going to use a for loop to web-scrape the airline fleet data for each of the URLs. This for-loop will be quite long as by the end of it I will have placed all the data I need from all the site-pages into a few lists. Comments will be placed within the code to provide further insight into the steps carried out. WARNING:This code block may take up to 10 mins to run."
   ]
  },
  {
   "cell_type": "code",
   "execution_count": 6,
   "metadata": {},
   "outputs": [
    {
     "name": "stdout",
     "output_type": "stream",
     "text": [
      "all done :-)\n"
     ]
    }
   ],
   "source": [
    "import requests\n",
    "from time import sleep\n",
    "from bs4 import BeautifulSoup\n",
    "\n",
    "#Some lists I will need later to collate the info into\n",
    "airline_name = []\n",
    "ICAO_ID = []\n",
    "IATA_ID = []\n",
    "aircraft_type_col = []\n",
    "no_aircrafts = []\n",
    "\n",
    "for url in urls:\n",
    "    #First we use requests to get the HTML from the inserted url.\n",
    "    r = requests.get(url)\n",
    "    \n",
    "    #Next we use BeautifulSoup to locate the Name and IDs of the airline from the HTML.\n",
    "    soup = BeautifulSoup(r.content, 'html.parser')\n",
    "    IDs = soup.select('table tr td')[3].text.split(' / ')\n",
    "    Name = soup.select('table tr td')[1].text\n",
    "    ICAO = IDs[0]\n",
    "    IATA = IDs [1]\n",
    "    \n",
    "    #Then we collect the fleet specific table from the HTML.\n",
    "    sleep(10)\n",
    "    rows = soup.select('#cfleet table tr')\n",
    "    \n",
    "    #As I only need the 'Aircraft Type' from this table I will collect this value in a list.\n",
    "    all_aircraft_list = []\n",
    "    for row in rows:\n",
    "        r_data = row.select('td')\n",
    "        Aircraft_Type = r_data[2].text\n",
    "        all_aircraft_list.append(Aircraft_Type)\n",
    "    \n",
    "    #My list has many duplicate values. I want to know how many times each Aircraft type is listed.\n",
    "    #To achieve this I will create a dictionary holding the count of each list item.\n",
    "    all_aircraft_dict = dict.fromkeys(all_aircraft_list)\n",
    "    for key in all_aircraft_dict:\n",
    "        all_aircraft_dict[key] = all_aircraft_list.count(key)\n",
    "        \n",
    "    #Now I would like to append these values to lists ready to be converted later into a pandas dataframe.\n",
    "    aircraft_type = list(all_aircraft_dict.keys())\n",
    "    airline_name.extend([Name]*len(aircraft_type))\n",
    "    ICAO_ID.extend([ICAO]*len(aircraft_type))\n",
    "    IATA_ID.extend([IATA]*len(aircraft_type))\n",
    "    aircraft_type_col.extend(aircraft_type)\n",
    "    no_aircrafts.extend(list(all_aircraft_dict.values()))\n",
    "    \n",
    "    #Lastly I will have the code wait 10 secs before pulling from the next page\n",
    "    sleep(10)\n",
    "    \n",
    "print('All done :-)')"
   ]
  },
  {
   "cell_type": "markdown",
   "metadata": {},
   "source": [
    "All of the lists created now need to be moved into a pandas dataframe ready for further processing later. It's also a handy way for me to be able to visualise the data I have produced and 'sanity check' it. The dataframe is produced by using the pd zip command to combine all the lists, this way they are in the right format for the pd.DataFrame function.  "
   ]
  },
  {
   "cell_type": "code",
   "execution_count": 7,
   "metadata": {},
   "outputs": [
    {
     "data": {
      "text/html": [
       "<div>\n",
       "<style scoped>\n",
       "    .dataframe tbody tr th:only-of-type {\n",
       "        vertical-align: middle;\n",
       "    }\n",
       "\n",
       "    .dataframe tbody tr th {\n",
       "        vertical-align: top;\n",
       "    }\n",
       "\n",
       "    .dataframe thead th {\n",
       "        text-align: right;\n",
       "    }\n",
       "</style>\n",
       "<table border=\"1\" class=\"dataframe\">\n",
       "  <thead>\n",
       "    <tr style=\"text-align: right;\">\n",
       "      <th></th>\n",
       "      <th>Airline Name</th>\n",
       "      <th>ICAO ID</th>\n",
       "      <th>IATA ID</th>\n",
       "      <th>Aircraft Type</th>\n",
       "      <th>No Aircrafts</th>\n",
       "    </tr>\n",
       "  </thead>\n",
       "  <tbody>\n",
       "    <tr>\n",
       "      <th>0</th>\n",
       "      <td>American Airlines</td>\n",
       "      <td>AAL</td>\n",
       "      <td>AA</td>\n",
       "      <td>Airbus A321-200</td>\n",
       "      <td>218</td>\n",
       "    </tr>\n",
       "    <tr>\n",
       "      <th>1</th>\n",
       "      <td>American Airlines</td>\n",
       "      <td>AAL</td>\n",
       "      <td>AA</td>\n",
       "      <td>Airbus A320-200</td>\n",
       "      <td>48</td>\n",
       "    </tr>\n",
       "    <tr>\n",
       "      <th>2</th>\n",
       "      <td>American Airlines</td>\n",
       "      <td>AAL</td>\n",
       "      <td>AA</td>\n",
       "      <td>Airbus A319-100</td>\n",
       "      <td>133</td>\n",
       "    </tr>\n",
       "    <tr>\n",
       "      <th>3</th>\n",
       "      <td>American Airlines</td>\n",
       "      <td>AAL</td>\n",
       "      <td>AA</td>\n",
       "      <td>Boeing B757-200</td>\n",
       "      <td>30</td>\n",
       "    </tr>\n",
       "    <tr>\n",
       "      <th>4</th>\n",
       "      <td>American Airlines</td>\n",
       "      <td>AAL</td>\n",
       "      <td>AA</td>\n",
       "      <td>Boeing B737-800</td>\n",
       "      <td>304</td>\n",
       "    </tr>\n",
       "    <tr>\n",
       "      <th>...</th>\n",
       "      <td>...</td>\n",
       "      <td>...</td>\n",
       "      <td>...</td>\n",
       "      <td>...</td>\n",
       "      <td>...</td>\n",
       "    </tr>\n",
       "    <tr>\n",
       "      <th>89</th>\n",
       "      <td>Frontier Airlines</td>\n",
       "      <td>FFT</td>\n",
       "      <td>F9</td>\n",
       "      <td>Airbus A319-100</td>\n",
       "      <td>6</td>\n",
       "    </tr>\n",
       "    <tr>\n",
       "      <th>90</th>\n",
       "      <td>Hawaiian Airlines</td>\n",
       "      <td>HAL</td>\n",
       "      <td>HA</td>\n",
       "      <td>Airbus A321neo</td>\n",
       "      <td>18</td>\n",
       "    </tr>\n",
       "    <tr>\n",
       "      <th>91</th>\n",
       "      <td>Hawaiian Airlines</td>\n",
       "      <td>HAL</td>\n",
       "      <td>HA</td>\n",
       "      <td>Airbus A330-200</td>\n",
       "      <td>24</td>\n",
       "    </tr>\n",
       "    <tr>\n",
       "      <th>92</th>\n",
       "      <td>Hawaiian Airlines</td>\n",
       "      <td>HAL</td>\n",
       "      <td>HA</td>\n",
       "      <td>Boeing B717-200</td>\n",
       "      <td>19</td>\n",
       "    </tr>\n",
       "    <tr>\n",
       "      <th>93</th>\n",
       "      <td>Hawaiian Airlines</td>\n",
       "      <td>HAL</td>\n",
       "      <td>HA</td>\n",
       "      <td>Boeing B787-9 Dreamliner</td>\n",
       "      <td>1</td>\n",
       "    </tr>\n",
       "  </tbody>\n",
       "</table>\n",
       "<p>94 rows × 5 columns</p>\n",
       "</div>"
      ],
      "text/plain": [
       "         Airline Name ICAO ID IATA ID             Aircraft Type  No Aircrafts\n",
       "0   American Airlines     AAL      AA           Airbus A321-200           218\n",
       "1   American Airlines     AAL      AA           Airbus A320-200            48\n",
       "2   American Airlines     AAL      AA           Airbus A319-100           133\n",
       "3   American Airlines     AAL      AA           Boeing B757-200            30\n",
       "4   American Airlines     AAL      AA           Boeing B737-800           304\n",
       "..                ...     ...     ...                       ...           ...\n",
       "89  Frontier Airlines     FFT      F9           Airbus A319-100             6\n",
       "90  Hawaiian Airlines     HAL      HA            Airbus A321neo            18\n",
       "91  Hawaiian Airlines     HAL      HA           Airbus A330-200            24\n",
       "92  Hawaiian Airlines     HAL      HA           Boeing B717-200            19\n",
       "93  Hawaiian Airlines     HAL      HA  Boeing B787-9 Dreamliner             1\n",
       "\n",
       "[94 rows x 5 columns]"
      ]
     },
     "execution_count": 7,
     "metadata": {},
     "output_type": "execute_result"
    }
   ],
   "source": [
    "import pandas as pd\n",
    "fleet_pd = pd.DataFrame(list(zip(airline_name, ICAO_ID, IATA_ID, aircraft_type_col, no_aircrafts)), \n",
    "                           columns =['Airline Name', 'ICAO ID', 'IATA ID', 'Aircraft Type', 'No Aircrafts'])\n",
    "fleet_pd"
   ]
  },
  {
   "cell_type": "markdown",
   "metadata": {},
   "source": [
    "I will then save the data as a csv to protect it from changes/ loss of this code or changes to the websites data is being scraped from."
   ]
  },
  {
   "cell_type": "code",
   "execution_count": 10,
   "metadata": {},
   "outputs": [],
   "source": [
    "from datetime import date\n",
    "today = date.today()\n",
    "file_name = 'fleetcsv_' + today.strftime(\"%d%m%y\") + '.csv'\n",
    "fleet_pd.to_csv(file_name)"
   ]
  }
 ],
 "metadata": {
  "colab": {
   "authorship_tag": "ABX9TyNbUhvtkfRWnKLVF3eTPiAY",
   "include_colab_link": true,
   "name": "Processing_Fleet_Data.ipynb",
   "provenance": []
  },
  "kernelspec": {
   "display_name": "Python 3",
   "language": "python",
   "name": "python3"
  },
  "language_info": {
   "codemirror_mode": {
    "name": "ipython",
    "version": 3
   },
   "file_extension": ".py",
   "mimetype": "text/x-python",
   "name": "python",
   "nbconvert_exporter": "python",
   "pygments_lexer": "ipython3",
   "version": "3.8.8"
  }
 },
 "nbformat": 4,
 "nbformat_minor": 1
}
