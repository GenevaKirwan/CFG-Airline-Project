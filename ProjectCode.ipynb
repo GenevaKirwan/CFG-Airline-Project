{
  "cells": [
    {
      "cell_type": "markdown",
      "metadata": {
        "id": "view-in-github",
        "colab_type": "text"
      },
      "source": [
        "<a href=\"https://colab.research.google.com/github/GenevaKirwan/CFG-Airline-Project/blob/Project-Working-Branch/ProjectCode.ipynb\" target=\"_parent\"><img src=\"https://colab.research.google.com/assets/colab-badge.svg\" alt=\"Open In Colab\"/></a>"
      ]
    },
    {
      "cell_type": "markdown",
      "metadata": {
        "id": "FxKILNVsMAh_"
      },
      "source": [
        "# The Environmental & Economical Impact of USA’s Airlines\n",
        "## Data Analysis Project Final Code"
      ]
    },
    {
      "cell_type": "markdown",
      "metadata": {
        "id": "67Y1LCUAQ5bh"
      },
      "source": [
        "The code within this document should be run and reviewed in conjuction with the accompanying report. The code below is split into three sections of analysis: Emissions, Fleet, Revenue and Ticket price. Together these sections will provide a comprehensive picture of the environmental and Economic Impact of 10 US Airlines.\n"
      ]
    },
    {
      "cell_type": "markdown",
      "metadata": {
        "id": "TIDiLd9PQ5bi"
      },
      "source": [
        "## Emissions: "
      ]
    },
    {
      "cell_type": "markdown",
      "metadata": {
        "id": "uanLhuLOQ9Je"
      },
      "source": [
        "### Emissions: Introduction to Section"
      ]
    },
    {
      "cell_type": "markdown",
      "source": [
        "This section of code looks at creating a csv file with all of our our chosen airlines from data on the website: https://www.transtats.bts.gov/fuel.asp?pn=0&display=data1 to obtain a breakdown of their fuel consumption over a ten year period (2010 - 2019). Since we are only concerned with the total fuel consumption, the data will need to be cleaned to remove any unwanted columns, as well as removing data rows for years outside of the scope of our analysis.\n",
        "\n",
        "To perform the conversion from fuel consumption to carbon emissions, we will need a conversion factor. The most commonly used fuel in commercial aviation is Jet A fuel so we can safely assume that our airlines will be using this for their passenger aircrafts. This type of fuel has a carbon emissions factor of 3.15 kg CO2/kg of fuel, so by multiplying the conversion factor by the fuel used by each airline, their carbon emissions can be computed.\n",
        "\n",
        "As the fuel consumption data is given in gallons, a conversion factor of 3.02 will be needed to convert the the fuel quantities to kg first before calculating the carbon dioxide emissions in kg."
      ],
      "metadata": {
        "id": "-krtO3p5UX25"
      }
    },
    {
      "cell_type": "markdown",
      "source": [
        "### Emissions: Initial Data Source"
      ],
      "metadata": {
        "id": "CIiT6uTqUp4T"
      }
    },
    {
      "cell_type": "markdown",
      "source": [
        "The data for this particular section is available only as a table on the BTS website. Unfortunately, due to the age of the website, there were no API's available and it was not possible to webscrape the site, thus a very error prone copy and paste method was used to obtain the data.\n",
        "\n",
        "The webpage: https://www.transtats.bts.gov/fuel.asp?pn=0&display=data1 has two dropdown menus, the first allows you to select a carrier, the second to select a service. For each of the 10 carriers in order, you must select the carrier name from the first dropdown menu, then select Scheduled Serveice from the second menu, the press the submit button. After a few seconds, the screen will flash and the new table will be displayed.\n",
        "\n",
        "It is extremely important that the airlines are selected in the following order, otherwise the data will be incorrectly labeled at the cleaning and transformation stage: \n",
        "\n",
        "- 'Alaska Airlines Inc.'\n",
        "- 'American Airlines Inc.'\n",
        "- 'Delta Air Lines Inc.' \n",
        "- 'Frontier Airlines Inc.'\n",
        "- 'Hawaiian Airlines Inc.'\n",
        "- 'JetBlue Airways'\n",
        "- 'SkyWest Airlines Inc.'\n",
        "- 'Southwest Airlines Co.'\n",
        "- 'Spirit Air Lines'\n",
        "- 'United Air Lines Inc.'\n",
        "\n",
        "After selecting an airline, starting from the first row containing 2010, copy the entire table up to the last row that contains %Chg over 2018 which follows after the 2019 Total row. Paste this into a blank excel spreadsheet. The data should take up 140 rows. Copy and paste the same table sections one after the other for the other 9 airlines in the order above, such that the spreadsheet is 1400 lines long and save the speadsheet as a csv called 'Fuel-Table'.\n",
        "\n",
        "Now we are ready to clean the data."
      ],
      "metadata": {
        "id": "guaIX3PXUr-p"
      }
    },
    {
      "cell_type": "markdown",
      "source": [
        "### Emissions: Cleaning the Fuel Consumption Data\n",
        "\n",
        "The summary sections from the webpage have to be removed as they disrupt the order of the data, and redundant data must also be removed."
      ],
      "metadata": {
        "id": "CIWFEq89U7mw"
      }
    },
    {
      "cell_type": "code",
      "source": [
        "# Once the data has been successfully saved, it can be read in as a pandas dataframe as follows:\n",
        "\n",
        "import pandas as pd\n",
        "\n",
        "# Where there are columns that we will be getting rid of, they are read in as A, B, C... rather than their actual (very long) names \n",
        "fuel_table = pd.read_csv(\"Fuel-Table.csv\", names = [\"Year\", \"Month\", \"A\", \"B\", \"C\", \"D\", \"E\", \"F\", \n",
        "                                                    \"Total Fuel Consumed (thousands of gallons)\",\n",
        "                                                    \"Total Cost of Fuel (dollars)\",\n",
        "                                                   \"Cost per Gallon (dollars)\"])\n",
        "\n",
        "fuel_table.head()"
      ],
      "metadata": {
        "id": "erU7a04aVbm-"
      },
      "execution_count": null,
      "outputs": []
    },
    {
      "cell_type": "code",
      "source": [
        "# Using the webpage for guidance, we can drop the domestic and international fuel breakdown columns by their column index\n",
        "# They are the middle 6 columns so can be deleted from the same position with a for loop that runs 6 times.\n",
        "\n",
        "for i in range(6):\n",
        "    fuel_table.drop(fuel_table.columns[2], axis=1, inplace=True)\n",
        "fuel_table.head()"
      ],
      "metadata": {
        "id": "pphCyB7AVkYV"
      },
      "execution_count": null,
      "outputs": []
    },
    {
      "cell_type": "code",
      "source": [
        "# To drop the summary statistics found twice in every 14 rows, the following lines of code are run. After the first line\n",
        "# runs to remove the % Change rows, the space between the Total rows reduces, hence why the slice step reduces to 13.\n",
        "\n",
        "fuel_table.drop(fuel_table.index[13:1400:14],inplace = True)\n",
        "fuel_table.drop(fuel_table.index[12:1400:13],inplace = True)\n",
        "\n",
        "# Check that the rows are gone\n",
        "fuel_table.head(30)"
      ],
      "metadata": {
        "id": "j7jr7_vcVmgZ"
      },
      "execution_count": null,
      "outputs": []
    },
    {
      "cell_type": "markdown",
      "source": [
        "### Emissions: Transforming Data\n",
        "In order to use this dataset with any of the other datasets, new columns must be added for things such as the unique airline identifier (IATA code), the airline name and other useful values such as the month in numerical form. We must also calculate the CO2 emissions from the total fuel consumed. "
      ],
      "metadata": {
        "id": "xRWjCY_EWASt"
      }
    },
    {
      "cell_type": "markdown",
      "source": [
        "First we must add in a column for the IATA code which identifies each airline, this should be easy to do, as we \n",
        "copied the data over in a specific order and we know the IATA codes for each airline as they are given next to the airline name on the dropdown menu on the webpage. "
      ],
      "metadata": {
        "id": "0DS52x6aWdBm"
      }
    },
    {
      "cell_type": "code",
      "source": [
        "# Check the length of the fuel table\n",
        "fuel_table.shape"
      ],
      "metadata": {
        "id": "rmHP6podWepe"
      },
      "execution_count": null,
      "outputs": []
    },
    {
      "cell_type": "code",
      "source": [
        "# There's clearly 10 years of 12 months for each eariline, so we add the IATA code for each airline to a list called codes\n",
        "# 120 times.\n",
        "codes = []\n",
        "codes += ['AS' for i in range(120)]\n",
        "codes += ['AA' for i in range(120)]\n",
        "codes += ['DL' for i in range(120)]\n",
        "codes += ['F9' for i in range(120)]\n",
        "codes += ['HA' for i in range(120)]\n",
        "codes += ['B6' for i in range(120)]\n",
        "codes += ['OO' for i in range(120)]\n",
        "codes += ['WN' for i in range(120)]\n",
        "codes += ['NK' for i in range(120)]\n",
        "codes += ['UA' for i in range(120)]"
      ],
      "metadata": {
        "id": "3v1uxRHqWi_y"
      },
      "execution_count": null,
      "outputs": []
    },
    {
      "cell_type": "code",
      "source": [
        "# Add the codes column at the start of the dataframe:\n",
        "fuel_table.insert(0, 'IATA Code', codes)"
      ],
      "metadata": {
        "id": "jerjUjHiWmnO"
      },
      "execution_count": null,
      "outputs": []
    },
    {
      "cell_type": "markdown",
      "source": [
        "Next we want to add in a column next to the one we just created for the Airline Name associated with each code, since it is not immediately obvious from the codes which airline is which. We can generate a list of names in the same way as before with the codes:"
      ],
      "metadata": {
        "id": "ktJqGBJtWvzA"
      }
    },
    {
      "cell_type": "code",
      "source": [
        "names = []\n",
        "names += ['Alaska Airlines' for i in range(120)]\n",
        "names += ['American Airlines' for i in range(120)]\n",
        "names += ['Delta Air Lines' for i in range(120)]\n",
        "names += ['Frontier Airlines' for i in range(120)]\n",
        "names += ['Hawaiian Airlines' for i in range(120)]\n",
        "names += ['JetBlue Airways' for i in range(120)]\n",
        "names += ['SkyWest Airlines' for i in range(120)]\n",
        "names += ['Southwest Airlines' for i in range(120)]\n",
        "names += ['Spirit Air Lines' for i in range(120)]\n",
        "names += ['United Air Lines' for i in range(120)]"
      ],
      "metadata": {
        "id": "Hv3tuwNfWrAG"
      },
      "execution_count": null,
      "outputs": []
    },
    {
      "cell_type": "code",
      "source": [
        "# Add the airline names as the second column (i.e. at position 1)\n",
        "fuel_table.insert(1, 'Airline Name', names)\n",
        "fuel_table"
      ],
      "metadata": {
        "id": "nnkvi6PgW1pS"
      },
      "execution_count": null,
      "outputs": []
    },
    {
      "cell_type": "markdown",
      "source": [
        "We will now add in a numerical column that represents the month, at column index 4, so that it comes after the written \n",
        "month"
      ],
      "metadata": {
        "id": "88UntehOW-NL"
      }
    },
    {
      "cell_type": "code",
      "source": [
        "# The months cycle round uniformly so a loop is appropriate to generate these column values:\n",
        "month_nums = []\n",
        "for i in range(100):\n",
        "    month_nums.extend([1,2,3,4,5,6,7,8,9,10,11,12])\n",
        "    \n",
        "fuel_table.insert(4, 'Month Number', month_nums)\n",
        "fuel_table"
      ],
      "metadata": {
        "id": "fRcYzMJ_W5ai"
      },
      "execution_count": null,
      "outputs": []
    },
    {
      "cell_type": "markdown",
      "source": [
        "Some of the datasets are given as quartely results so a quarter column should be added after the month column."
      ],
      "metadata": {
        "id": "EvV2kEV1XFmp"
      }
    },
    {
      "cell_type": "code",
      "source": [
        "# Create another for loop to generate the quarters:\n",
        "quarter_nums = []\n",
        "for i in range(100):\n",
        "    quarter_nums.extend([1,1,1,2,2,2,3,3,3,4,4,4])\n",
        "    \n",
        "fuel_table.insert(5, 'Quarter', quarter_nums)\n",
        "fuel_table"
      ],
      "metadata": {
        "id": "mTVPCpClXNPU"
      },
      "execution_count": null,
      "outputs": []
    },
    {
      "cell_type": "markdown",
      "source": [
        "As stated in the introduction, the fuel is given in gallons, however CO2 emissions from fuel combustion are typically calculated in kg of CO2 per kg of fuel so we must convert the fuel from gallons to kg using the conversion factor of 3.02 used for Jet A fuel. "
      ],
      "metadata": {
        "id": "4n1zUnn1XRRS"
      }
    },
    {
      "cell_type": "code",
      "source": [
        "# First reset the index after having removed the summary rows at the start, then remove the extra index column generated\n",
        "fuel_table = fuel_table.reset_index()\n",
        "fuel_table.drop(fuel_table.columns[0], axis = 1, inplace=True)\n",
        "\n",
        "# Since the fuel consumed is not a numerical data column due to the comma formatted numbers used on the webpage, we must remove\n",
        "# the commas then convert the data to floats before multiplying by the conversion factor.\n",
        "\n",
        "fuel_kg = []\n",
        "for i in range(len(fuel_table)):\n",
        "    result = float(str(fuel_table['Total Fuel Consumed (thousands of gallons)'][i]).replace(\",\",\"\"))*3.02\n",
        "    fuel_kg.append(result)\n",
        "    \n",
        "fuel_table['Total Fuel Consumed (thousands of kg)'] = fuel_kg\n",
        "fuel_table"
      ],
      "metadata": {
        "id": "jhPH59tVXX6B"
      },
      "execution_count": null,
      "outputs": []
    },
    {
      "cell_type": "markdown",
      "source": [
        "Finally we can calculate the kg of CO2 emissions per kg of fuel using the conversion factor of 3.15 mentioned in the introduction."
      ],
      "metadata": {
        "id": "0s7gXVPSXr7Y"
      }
    },
    {
      "cell_type": "code",
      "source": [
        "co2_kg = []\n",
        "for i in range(len(fuel_table)):\n",
        "    result = (fuel_table['Total Fuel Consumed (thousands of kg)'][i])*3.15\n",
        "    co2_kg.append(result)\n",
        "    \n",
        "fuel_table['CO2 Emissions (thousands of kg)'] = co2_kg\n",
        "fuel_table"
      ],
      "metadata": {
        "id": "Ujo8wi3HXyVt"
      },
      "execution_count": null,
      "outputs": []
    },
    {
      "cell_type": "markdown",
      "source": [
        "Now we can save all of our changes to a new csv file that reflects the data transformations. This file is available to download from our GitHub repository."
      ],
      "metadata": {
        "id": "z-5vM6vxYF6i"
      }
    },
    {
      "cell_type": "code",
      "source": [
        "fuel_table.to_csv(\"Fuel-Data&Emissions-Table.csv\", sep = ',')"
      ],
      "metadata": {
        "id": "GtwWlvCdYHlo"
      },
      "execution_count": null,
      "outputs": []
    },
    {
      "cell_type": "markdown",
      "source": [
        "### Emissions: Analysis\n",
        "\n",
        "Here we will explore the data and decide what plots will be useful to produce in order to better understand the data."
      ],
      "metadata": {
        "id": "O9TO5Wa_YSg0"
      }
    },
    {
      "cell_type": "code",
      "source": [
        "# Once the data has been successfully saved, it can be read in as a pandas dataframe as follows:\n",
        "\n",
        "import pandas as pd\n",
        "\n",
        "fuel_table = pd.read_csv(\"Fuel-Data&Emissions-Table.csv\")"
      ],
      "metadata": {
        "id": "dZe-dDpgYhot"
      },
      "execution_count": null,
      "outputs": []
    },
    {
      "cell_type": "code",
      "source": [
        "fuel_table.shape"
      ],
      "metadata": {
        "id": "ZB4qDv81YiaU"
      },
      "execution_count": null,
      "outputs": []
    },
    {
      "cell_type": "code",
      "source": [
        "fuel_table.info()"
      ],
      "metadata": {
        "id": "3ZQT-n9WYqqd"
      },
      "execution_count": null,
      "outputs": []
    },
    {
      "cell_type": "code",
      "source": [
        "print(fuel_table)"
      ],
      "metadata": {
        "id": "NN9eQFZ5Yx9v"
      },
      "execution_count": null,
      "outputs": []
    },
    {
      "cell_type": "markdown",
      "source": [
        "Having got an idea of the data structure we are working with, it seems like it would be a good idea to get a sense of how the emissions of each airline have changed over the 10 year period. It would also be helpful to get a ranked result for the most recent year (2019), as the combination of a ten year trend and a more detailed recent breakdown, can help inform future predictions for which airlines will be the most environmentally problematic."
      ],
      "metadata": {
        "id": "nFXgirPdYzrB"
      }
    },
    {
      "cell_type": "markdown",
      "source": [
        "### Emissions: Data Visualisation and Analysis\n",
        "Data visualisation for the yearly cleaned emissions data will be will be covered in later sections of the code where the emissions are considered in conjunction with other factors. \n",
        "\n",
        "Isolating just the 2019 results:"
      ],
      "metadata": {
        "id": "nNxSaRXeZEmU"
      }
    },
    {
      "cell_type": "code",
      "source": [
        "year_grouped = fuel_table[fuel_table['Year'] == 2019]\n",
        "\n",
        "# print(year_grouped)"
      ],
      "metadata": {
        "id": "FmPHfxGmfln6"
      },
      "execution_count": null,
      "outputs": []
    },
    {
      "cell_type": "code",
      "source": [
        "# Group by the airlines, for this I've used their Airline Name but you could use the IATA Code and get the same result\n",
        "# We then get the total CO2 emissions.\n",
        "\n",
        "airline_grouped = year_grouped.groupby('Airline Name')['CO2 Emissions (thousands of kg)'].sum()\n",
        "# print(airline_grouped)\n",
        "\n",
        "# Sort series into descending order\n",
        "airline_sorted = airline_grouped.sort_values(ascending = False).to_frame().reset_index()\n",
        "print(airline_sorted)\n",
        "\n",
        "# Note the result will be in thousands of kg x 10 to a large power which is displayed as e+0n where n is the power."
      ],
      "metadata": {
        "id": "Zoo6Y5zkfwcO"
      },
      "execution_count": null,
      "outputs": []
    },
    {
      "cell_type": "code",
      "source": [
        "# Plotting the aggregated data as a scatter plot:\n",
        "\n",
        "import matplotlib.pyplot as plt\n",
        "\n",
        "x = airline_sorted['Airline Name'].unique().tolist()\n",
        "y = airline_sorted['CO2 Emissions (thousands of kg)'].tolist()\n",
        "\n",
        "plt.figure(figsize=(12,9))\n",
        "\n",
        "plt.scatter(x, y, label = 'CO2 Emissions (thousands of kg)')\n",
        "\n",
        "\n",
        "plt.xticks(rotation=90)\n",
        "plt.grid(linewidth = 1, linestyle = 'dotted')\n",
        "\n",
        "plt.title('2019 CO2 Emissions From Fuel Combustion For Each Airline', size = 15)\n",
        "plt.xlabel('Airline Name', size = 12)\n",
        "plt.ylabel('Total CO2 Emissions (thousands of kg)', size = 12)\n",
        "\n",
        "\n",
        "plt.show()"
      ],
      "metadata": {
        "id": "RTPXkQr-fyn1"
      },
      "execution_count": null,
      "outputs": []
    },
    {
      "cell_type": "markdown",
      "source": [
        "The plot above shows that in the year 2019, the total emissions for the 10 largest USA airlines was separated into three clear sections. The first section contains American, Delta and United Airlines which all had the highest emissions. The second group contains Jetblue, Alaska, Spirit, Frontier, Hawaiian and SkyWest Airlines, which all have lower emissions during this year. Southwest Airlines forms a third group on its own, falling in between the higher and lower CO2 emissions sections. The aforementioned high-emission airlines had approximately thrice the amount of CO2 emissions compared to Jetblue Airlines, which lies in the lower emission group. This is a significant jump in emissions between the low and high emitting airlines, thus we have chosen to explore some of the factors such as fleet size and numbers of passengers carried alongside the emissions data in order to begin to explain this great increase.  "
      ],
      "metadata": {
        "id": "D4Nhb4HOgIjk"
      }
    },
    {
      "cell_type": "markdown",
      "source": [
        "We decided that it would be interesting to explore whether there is a correlation between the carbon emissions of each airline and their per-passenger carbon footprint. The remainder of this emissions section will focus on the handling of passenger data to obtain this carbon footprint measure."
      ],
      "metadata": {
        "id": "BhyE6UTmZKvS"
      }
    },
    {
      "cell_type": "markdown",
      "source": [
        "### Emissions and Passengers: Analysis of the Passenger Data for Each of the 10 Airlines and Calculating the Carbon Footprint per Passenger for Each Airline\n",
        "\n",
        "To calculate the carbon footprint per passenger, we first need to get the number of passengers flying with each airline.\n",
        "\n",
        "The data for the number of passengers on each flight can be found at https://www.transtats.bts.gov/DL_SelectFields.asp?gnoyr_VQ=GDM&QO_fu146_anzr=Nv4%20Pn44vr45. The Air Carriers : T-100 Segment (US Carriers Only) data found here is the result of the Form 41 Traffic survey given to airlines for them to report their key carrier statistics.\n",
        "\n",
        "Instructions are given in the next section on how to obtain the exact data needed for this study using the website listed above."
      ],
      "metadata": {
        "id": "H8LLVoTbg2ET"
      }
    },
    {
      "cell_type": "markdown",
      "source": [
        "### Emissions and Passengers: Initial Data Source"
      ],
      "metadata": {
        "id": "HTdnqhM5hTOy"
      }
    },
    {
      "cell_type": "markdown",
      "source": [
        "The website has a range of options, so to obtain data for the ten year period (2010-2019), select each year in turn from the dropdown menu, select the following options and download the csv from the website: \n",
        "\n",
        "\n",
        "- Passengers - Non-Stop Segment Passengers Transported\n",
        "- UniqueCarrier - Unique Carrier Code.\n",
        "- UniqueCarrierName - Unique Carrier Name.\n",
        "- OriginAirportID - Origin Airport, Airport ID. An identification number assigned by US DOT to identify a unique airport.\n",
        "- OriginCityName - Origin Airport, City Name\n",
        "- DestAirportID\n",
        "- DestCityName\n",
        "- AircraftType\n",
        "- Year\n",
        "- Quarter\n",
        "- Month\n",
        "\n",
        "Having saved the 10 csv files individually, giving each of them the year of reporting as the title, e.g. '2010.csv', they will need to be combined into one single file. "
      ],
      "metadata": {
        "id": "k4MYdsaNhYVO"
      }
    },
    {
      "cell_type": "markdown",
      "source": [
        "### Emissions and Passengers: Data Cleansing and Transforming "
      ],
      "metadata": {
        "id": "qvfQKIISheKm"
      }
    },
    {
      "cell_type": "markdown",
      "source": [
        "Ideally we would want to combine the 10 files straight away, however together they contain millions of lines of data so first we need to clean each year's file individually, removing the airlines we aren't studying in this project and any flights which had no passengers. This will cut down the file size by about 2/3 and remove any redundant data."
      ],
      "metadata": {
        "id": "mNJP1YYUiATk"
      }
    },
    {
      "cell_type": "code",
      "source": [
        "import pandas as pd\n",
        "import os\n",
        "\n",
        "# This is an example path to get to the csv's, you will need to specify your own path depending on where the files are saved\n",
        "\n",
        "path = '/Users/genev/Documents/CFG/Airline_Project'\n",
        "os.chdir(path)"
      ],
      "metadata": {
        "id": "3eG4C_R5iBsh"
      },
      "execution_count": null,
      "outputs": []
    },
    {
      "cell_type": "code",
      "source": [
        "# First, define a function to get all the unique airline IATA codes, with the 10 airlines we're studying removed\n",
        "\n",
        "def get_unwanted_codes(file):\n",
        "    \n",
        "    unwanted_codes = file['UNIQUE_CARRIER'].unique().tolist()\n",
        "    # Uncomment the line below to check the total number of IATA codes\n",
        "    # print(unwanted_codes)\n",
        "    \n",
        "    # These codes are the unique carrier codes for the 10 airlines we are interested in studying\n",
        "    wanted_codes = ['AA', 'AS', 'DL', 'F9', 'HA', 'B6', 'WN', 'NK', 'UA', 'OO']\n",
        "\n",
        "    for code in wanted_codes:\n",
        "        if code in unwanted_codes:\n",
        "            unwanted_codes.remove(code)\n",
        "            \n",
        "    return unwanted_codes"
      ],
      "metadata": {
        "id": "62k4tCAMiOz4"
      },
      "execution_count": null,
      "outputs": []
    },
    {
      "cell_type": "code",
      "source": [
        "# Define a function for cleaning the dataset by removing unwanted airlines and flights that had no passengers on.\n",
        "    \n",
        "def drop_unwanted_airlines(file, name):\n",
        "    \n",
        "    # Call the unwanted codes function to get the codes for the individual file\n",
        "    codes = get_unwanted_codes(file)\n",
        "    \n",
        "    # Change the index to the IATA carrier code, drop the rows with the unwanted codes and reset the index \n",
        "    file = file.set_index('UNIQUE_CARRIER').drop(codes).reset_index()\n",
        "    \n",
        "    # Remove the rows with 0 passengers\n",
        "    file = file.set_index('PASSENGERS').drop(0).reset_index()\n",
        "    \n",
        "    # Check that the correct rows have been removed by uncommenting the line below\n",
        "    # file.head(50)\n",
        "    \n",
        "    file.to_csv('new{}'.format(name), sep = ',')"
      ],
      "metadata": {
        "id": "sRaxol64icRl"
      },
      "execution_count": null,
      "outputs": []
    },
    {
      "cell_type": "markdown",
      "source": [
        "Generate a list of the csv files previously saved under the year that the data was recorded ('2010.csv', '2011.csv'...'2019.csv')"
      ],
      "metadata": {
        "id": "ltbXAaBMif_n"
      }
    },
    {
      "cell_type": "code",
      "source": [
        "names = []\n",
        "for i in range(10, 20):\n",
        "    name = 2000 + i\n",
        "    name = str(name)\n",
        "    name += '.csv'\n",
        "    names.append(name)"
      ],
      "metadata": {
        "id": "0P3BIpGnihk5"
      },
      "execution_count": null,
      "outputs": []
    },
    {
      "cell_type": "markdown",
      "source": [
        "Cycle through the files, calling the function that will clean the csv file and create a new file."
      ],
      "metadata": {
        "id": "4XPCExThilGO"
      }
    },
    {
      "cell_type": "code",
      "source": [
        "for name in names:\n",
        "    filename = pd.read_csv(name, sep = ',')\n",
        "    drop_unwanted_airlines(filename, name)"
      ],
      "metadata": {
        "id": "ZKvpqCLEioT6"
      },
      "execution_count": null,
      "outputs": []
    },
    {
      "cell_type": "markdown",
      "source": [
        "The 10 new files can now be combined into one master file containing passenger statistics for all flights by the ten airlines for the ten year period (2010 - 2019)."
      ],
      "metadata": {
        "id": "dTvKzHBeiruW"
      }
    },
    {
      "cell_type": "code",
      "source": [
        "# Using the filenames, combine the individual years into one single csv\n",
        "\n",
        "import pandas as pd\n",
        "import os, glob\n",
        "\n",
        "# This is an example path to get to the csv's, you will need to specify your own path depending on where the files are saved\n",
        "path = '/Users/genev/Documents/CFG/Airline_Project'\n",
        "\n",
        "files = glob.glob(os.path.join(path, \"new*.csv\"))\n",
        "\n",
        "all_passengers = pd.concat([pd.read_csv(file, sep =',') for file in files])\n",
        "\n",
        "# The line below was used to check that the final file has the correct columns. When run, it is clear that the final file \n",
        "# has an extra column called 'Unnamed: 0' so I have added a line to remove the first column before saving the file to a csv.\n",
        "\n",
        "# print(all_passengers.columns.values)\n",
        "\n",
        "all_passengers = all_passengers.drop('Unnamed: 0', axis = 1)\n",
        "\n",
        "# Save the new csv\n",
        "all_passengers.to_csv('all_passengers.csv', sep = ',')\n",
        "\n",
        "# Read in the csv and check that the files have been combined in the correct order\n",
        "\n",
        "pass_df = pd.read_csv('all_passengers.csv',sep=',' )\n",
        "pass_df.tail(20)"
      ],
      "metadata": {
        "id": "ZeOjtoHlivc7"
      },
      "execution_count": null,
      "outputs": []
    },
    {
      "cell_type": "markdown",
      "source": [
        "### Emissions and Passengers: Data Visualisation and Analysis\n",
        "\n",
        "In order to see what the relationship between passengers numbers and the volume of CO2 emissions are for each airline, the two csv's created in this section of the code had to be merged."
      ],
      "metadata": {
        "id": "5QEjigu4okd7"
      }
    },
    {
      "cell_type": "markdown",
      "source": [
        "Combining the emissions and passenger data to obtain a yearly per-passenger carbon footprint."
      ],
      "metadata": {
        "id": "yPZRmwZFqfy5"
      }
    },
    {
      "cell_type": "code",
      "source": [
        "import pandas as pd\n",
        "\n",
        "# Read in the 2 csv's\n",
        "\n",
        "fuel_df = pd.read_csv('Fuel-Data&Emissions-Table.csv')\n",
        "pass_df = pd.read_csv('all_passengers.csv', sep=',' )"
      ],
      "metadata": {
        "id": "erHgZIDjqeAm"
      },
      "execution_count": null,
      "outputs": []
    },
    {
      "cell_type": "markdown",
      "source": [
        "To compare yearly total emissions with yearly total passengers, first both data sets have to be aggregated."
      ],
      "metadata": {
        "id": "ACKn1xlmrUMO"
      }
    },
    {
      "cell_type": "code",
      "source": [
        "# Groupby year and airline code \n",
        "\n",
        "yearly_passenger_sum = pass_df.groupby(['YEAR','UNIQUE_CARRIER'])['PASSENGERS'].sum()\n",
        "yearly_pass_df = yearly_passenger_sum.to_frame().reset_index()\n",
        "\n",
        "yearly_emissions_sum = fuel_df.groupby(['Year','IATA Code'])['CO2 Emissions (thousands of kg)'].sum()\n",
        "yearly_emm_df = yearly_emissions_sum.to_frame().reset_index()"
      ],
      "metadata": {
        "id": "yrg7sDGTreF9"
      },
      "execution_count": null,
      "outputs": []
    },
    {
      "cell_type": "code",
      "source": [
        "# At this point we can plot just the passenger sum to see how the number of passengers being transported change over time\n",
        "x = yearly_pass_df['YEAR'].unique().tolist()\n",
        "y = yearly_pass_df['PASSENGERS'].tolist()\n",
        "labels = ['Alaska Airlines Inc.', 'American Airlines Inc.', 'Delta Air Lines Inc.', 'Frontier Airlines Inc.', \n",
        "          'Hawaiian Airlines Inc.', 'JetBlue Airways', 'SkyWest Airlines Inc.', 'Southwest Airlines Co.', 'Spirit Air Lines',\n",
        "          'United Air Lines Inc.']\n",
        "\n",
        "plt.figure(figsize=(13,10))\n",
        "\n",
        "plt.plot(x, y[0:99:10], label = labels[0])\n",
        "plt.plot(x, y[1:99:10], label = labels[1])\n",
        "plt.plot(x, y[2:99:10], label = labels[2])\n",
        "plt.plot(x, y[3:99:10], label = labels[3])\n",
        "plt.plot(x, y[4:99:10], label = labels[4])\n",
        "plt.plot(x, y[5:99:10], label = labels[5])\n",
        "plt.plot(x, y[6:99:10], label = labels[6])\n",
        "plt.plot(x, y[7:99:10], label = labels[7])\n",
        "plt.plot(x, y[8:99:10], label = labels[8])\n",
        "plt.plot(x, y[9:100:10], label = labels[9])\n",
        "\n",
        "plt.legend(loc='center right', bbox_to_anchor=(1.3,0.5))\n",
        "plt.xticks(x)\n",
        "plt.grid(linewidth = 1, linestyle = 'dotted')\n",
        "\n",
        "plt.title('Yearly Total Passengers For Each Airline (2010 - 2019)', size = 15)\n",
        "plt.xlabel('Year', size = 12)\n",
        "plt.ylabel('Total Passengers Transported', size = 12)\n",
        "\n",
        "plt.show()"
      ],
      "metadata": {
        "id": "SF82m_Fr938U"
      },
      "execution_count": null,
      "outputs": []
    },
    {
      "cell_type": "code",
      "source": [
        "# Rename the shared columns of the emissions and passenger data frames so that the two datasets can be merged \n",
        "\n",
        "yearly_pass_df = yearly_pass_df.rename(columns={\"UNIQUE_CARRIER\": \"IATA Code\", \"YEAR\":\"Year\"})"
      ],
      "metadata": {
        "id": "Ht97qqARrpe_"
      },
      "execution_count": null,
      "outputs": []
    },
    {
      "cell_type": "code",
      "source": [
        "# Check that the two datasets have shared column headers \n",
        "\n",
        "yearly_emm_df.head()\n",
        "yearly_pass_df.head()"
      ],
      "metadata": {
        "id": "-VRgZB3SrwGS"
      },
      "execution_count": null,
      "outputs": []
    },
    {
      "cell_type": "markdown",
      "source": [
        "Merge the dataframes:"
      ],
      "metadata": {
        "id": "UwvIIYiUsB8s"
      }
    },
    {
      "cell_type": "code",
      "source": [
        "merged = yearly_emm_df.merge(yearly_pass_df)\n",
        "merged.head(30)"
      ],
      "metadata": {
        "id": "y2NzTHG5r85M"
      },
      "execution_count": null,
      "outputs": []
    },
    {
      "cell_type": "markdown",
      "source": [
        "Calculate the carbon emissions per passenger and add to the merged dataframe:"
      ],
      "metadata": {
        "id": "LPCp2GDIsagE"
      }
    },
    {
      "cell_type": "code",
      "source": [
        "carbon_footprint = []\n",
        "for i in range(len(merged)):\n",
        "    result = ((merged['CO2 Emissions (thousands of kg)'][i])/(merged['PASSENGERS'][i]))*1000  # Convert thousands of kg to kg\n",
        "    carbon_footprint.append(result)\n",
        "    \n",
        "# print(len(carbon_footprint))\n",
        "    \n",
        "merged['Carbon Footprint (kg)'] = carbon_footprint\n",
        "\n",
        "merged.head()"
      ],
      "metadata": {
        "id": "_s3g7lhksVbn"
      },
      "execution_count": null,
      "outputs": []
    },
    {
      "cell_type": "markdown",
      "source": [
        "Graph the carbon footprint per person"
      ],
      "metadata": {
        "id": "Ux-EFXDvtCmn"
      }
    },
    {
      "cell_type": "code",
      "source": [
        "import matplotlib.pyplot as plt\n",
        "\n",
        "x = merged['Year'].unique().tolist()\n",
        "y = merged['Carbon Footprint (kg)'].tolist()\n",
        "labels = ['Alaska Airlines Inc.', 'American Airlines Inc.', 'Delta Air Lines Inc.', 'Frontier Airlines Inc.', \n",
        "          'Hawaiian Airlines Inc.', 'JetBlue Airways', 'SkyWest Airlines Inc.', 'Southwest Airlines Co.', 'Spirit Air Lines',\n",
        "          'United Air Lines Inc.']\n",
        "\n",
        "plt.figure(figsize=(13,10))\n",
        "\n",
        "plt.plot(x, y[0:100:10], label = labels[0])\n",
        "plt.plot(x, y[1:100:10], label = labels[1])\n",
        "plt.plot(x, y[2:100:10], label = labels[2])\n",
        "plt.plot(x, y[3:100:10], label = labels[3])\n",
        "plt.plot(x, y[4:100:10], label = labels[4])\n",
        "plt.plot(x, y[5:100:10], label = labels[5])\n",
        "plt.plot(x, y[6:100:10], label = labels[6])\n",
        "plt.plot(x, y[7:100:10], label = labels[7])\n",
        "plt.plot(x, y[8:100:10], label = labels[8])\n",
        "plt.plot(x, y[9:100:10], label = labels[9])\n",
        "\n",
        "plt.legend(loc='center right', bbox_to_anchor=(1.3,0.5))\n",
        "plt.xticks(x)\n",
        "plt.grid(linewidth = 1, linestyle = 'dotted')\n",
        "\n",
        "plt.title('Yearly Carbon Footprint Per Person (kg) For Each Airline (2010 - 2019)', size = 15)\n",
        "plt.xlabel('Year', size = 12)\n",
        "plt.ylabel('C02 Emissions Per Passenger (kg)', size = 12)\n",
        "\n",
        "\n",
        "plt.show()"
      ],
      "metadata": {
        "id": "_wzlqxfNs-jS"
      },
      "execution_count": null,
      "outputs": []
    },
    {
      "cell_type": "markdown",
      "source": [
        "For many airlines it seems that in more recent years, their carbon emissions per passenger have decreased, despite the fact that the the number of passengers transported increases each year. We can speculate that this might be due to the acquisition of newer, more energy efficient planes, however as is demonstrated in later sections of this code, fleet age is just one factor that might be contributing to lowering emissions. It is interesting to note that the three airlines which are responsible for producing the most CO2 emissions by far, actually have a mid-range carbon footprint per passenger, compared with airlines such as Spirit who although produce a lower proportion of the total CO2 emissions overall, they actually have the highest carbon footprint per passenger by far. This means that they must not be transporting nearly as many passengers as the other lower total emissions airlines, despite using the same amount of fuel."
      ],
      "metadata": {
        "id": "7SzLydVJtRBJ"
      }
    },
    {
      "cell_type": "markdown",
      "metadata": {
        "id": "5cvxqjTzQ5bj"
      },
      "source": [
        "## Fleet: Analysis of the Fleet Portfolio as it Relates to Emissions"
      ]
    },
    {
      "cell_type": "markdown",
      "metadata": {
        "id": "RE3HBwHyQ5bk"
      },
      "source": [
        "### Fleet: Introduction to Section"
      ]
    },
    {
      "cell_type": "markdown",
      "metadata": {
        "id": "EqTcsHhIQ5bl"
      },
      "source": [
        "Within this section fleet data has been analysed for the airlines within the scope of this project. The data has been reformatted, cleansed and visualised in parallel with the emissions data to see what impact fleet characteristics (size, capacity, age and model) has on total annual emissions and to identify which tenents make up a low-emission airline.\n",
        "\n",
        "Within this section, the pandas and matplotlib libraries have been used to allow for dataframe generation and manipulation as well as visualisation in the form of scatterplots, nested pie charts and histograms."
      ]
    },
    {
      "cell_type": "markdown",
      "metadata": {
        "id": "-p7fgZh-Q5bm"
      },
      "source": [
        "### Fleet: Initial Data Source"
      ]
    },
    {
      "cell_type": "markdown",
      "metadata": {
        "id": "XZhJgJxLQ5bn"
      },
      "source": [
        "Inventory Data for each of the 10 selected airlines has been downloaded from the Bureau of Transportation Statistics website as a csv file. This data included information about each aircraft owned by American based airlines.\n",
        "\n",
        "When importing the data into a pandas dataframe, only the columns related to the analysis have been retained, this minimises the space complexity of the code."
      ]
    },
    {
      "cell_type": "code",
      "execution_count": null,
      "metadata": {
        "id": "AOBwx6YDQ5bp",
        "outputId": "93a604f2-28e4-42b9-faca-76f48b906681"
      },
      "outputs": [
        {
          "data": {
            "text/html": [
              "<div>\n",
              "<style scoped>\n",
              "    .dataframe tbody tr th:only-of-type {\n",
              "        vertical-align: middle;\n",
              "    }\n",
              "\n",
              "    .dataframe tbody tr th {\n",
              "        vertical-align: top;\n",
              "    }\n",
              "\n",
              "    .dataframe thead th {\n",
              "        text-align: right;\n",
              "    }\n",
              "</style>\n",
              "<table border=\"1\" class=\"dataframe\">\n",
              "  <thead>\n",
              "    <tr style=\"text-align: right;\">\n",
              "      <th></th>\n",
              "      <th>CARRIER</th>\n",
              "      <th>CARRIER_NAME</th>\n",
              "      <th>MANUFACTURE_YEAR</th>\n",
              "      <th>OPERATING_STATUS</th>\n",
              "      <th>MANUFACTURER</th>\n",
              "      <th>MODEL</th>\n",
              "      <th>CAPACITY_IN_POUNDS</th>\n",
              "    </tr>\n",
              "  </thead>\n",
              "  <tbody>\n",
              "    <tr>\n",
              "      <th>0</th>\n",
              "      <td>0WQ</td>\n",
              "      <td>Avjet Corporation</td>\n",
              "      <td>2002</td>\n",
              "      <td>Y</td>\n",
              "      <td>Boeing</td>\n",
              "      <td>BBJ7377EG</td>\n",
              "      <td>171000</td>\n",
              "    </tr>\n",
              "    <tr>\n",
              "      <th>1</th>\n",
              "      <td>0WQ</td>\n",
              "      <td>Avjet Corporation</td>\n",
              "      <td>2006</td>\n",
              "      <td>Y</td>\n",
              "      <td>Bombardier</td>\n",
              "      <td>GlobalExpress</td>\n",
              "      <td>96000</td>\n",
              "    </tr>\n",
              "    <tr>\n",
              "      <th>2</th>\n",
              "      <td>0WQ</td>\n",
              "      <td>Avjet Corporation</td>\n",
              "      <td>2007</td>\n",
              "      <td>Y</td>\n",
              "      <td>Bombardier</td>\n",
              "      <td>GlobalExpress</td>\n",
              "      <td>99500</td>\n",
              "    </tr>\n",
              "    <tr>\n",
              "      <th>3</th>\n",
              "      <td>0WQ</td>\n",
              "      <td>Avjet Corporation</td>\n",
              "      <td>2014</td>\n",
              "      <td>Y</td>\n",
              "      <td>Dassault-Falcon-2000EXEASy</td>\n",
              "      <td>DASSAULT-FALCON-2000</td>\n",
              "      <td>90700</td>\n",
              "    </tr>\n",
              "    <tr>\n",
              "      <th>4</th>\n",
              "      <td>0WQ</td>\n",
              "      <td>Avjet Corporation</td>\n",
              "      <td>2000</td>\n",
              "      <td>Y</td>\n",
              "      <td>Gulfstream</td>\n",
              "      <td>GA-IV-IV</td>\n",
              "      <td>74600</td>\n",
              "    </tr>\n",
              "    <tr>\n",
              "      <th>...</th>\n",
              "      <td>...</td>\n",
              "      <td>...</td>\n",
              "      <td>...</td>\n",
              "      <td>...</td>\n",
              "      <td>...</td>\n",
              "      <td>...</td>\n",
              "      <td>...</td>\n",
              "    </tr>\n",
              "    <tr>\n",
              "      <th>7690</th>\n",
              "      <td>ZW</td>\n",
              "      <td>Air Wisconsin Airlines Corp</td>\n",
              "      <td>2004</td>\n",
              "      <td>Y</td>\n",
              "      <td>Bombardier</td>\n",
              "      <td>CL65</td>\n",
              "      <td>12972</td>\n",
              "    </tr>\n",
              "    <tr>\n",
              "      <th>7691</th>\n",
              "      <td>ZW</td>\n",
              "      <td>Air Wisconsin Airlines Corp</td>\n",
              "      <td>2004</td>\n",
              "      <td>Y</td>\n",
              "      <td>Bombardier</td>\n",
              "      <td>CL65</td>\n",
              "      <td>12972</td>\n",
              "    </tr>\n",
              "    <tr>\n",
              "      <th>7692</th>\n",
              "      <td>ZW</td>\n",
              "      <td>Air Wisconsin Airlines Corp</td>\n",
              "      <td>2004</td>\n",
              "      <td>Y</td>\n",
              "      <td>Bombardier</td>\n",
              "      <td>CL65</td>\n",
              "      <td>12972</td>\n",
              "    </tr>\n",
              "    <tr>\n",
              "      <th>7693</th>\n",
              "      <td>ZW</td>\n",
              "      <td>Air Wisconsin Airlines Corp</td>\n",
              "      <td>2004</td>\n",
              "      <td>Y</td>\n",
              "      <td>Bombardier</td>\n",
              "      <td>CL65</td>\n",
              "      <td>12972</td>\n",
              "    </tr>\n",
              "    <tr>\n",
              "      <th>7694</th>\n",
              "      <td>ZW</td>\n",
              "      <td>Air Wisconsin Airlines Corp</td>\n",
              "      <td>2000</td>\n",
              "      <td>Y</td>\n",
              "      <td>Bombardier</td>\n",
              "      <td>CL65</td>\n",
              "      <td>12972</td>\n",
              "    </tr>\n",
              "  </tbody>\n",
              "</table>\n",
              "<p>7695 rows × 7 columns</p>\n",
              "</div>"
            ],
            "text/plain": [
              "     CARRIER                 CARRIER_NAME  MANUFACTURE_YEAR OPERATING_STATUS  \\\n",
              "0        0WQ            Avjet Corporation              2002                Y   \n",
              "1        0WQ            Avjet Corporation              2006                Y   \n",
              "2        0WQ            Avjet Corporation              2007                Y   \n",
              "3        0WQ            Avjet Corporation              2014                Y   \n",
              "4        0WQ            Avjet Corporation              2000                Y   \n",
              "...      ...                          ...               ...              ...   \n",
              "7690      ZW  Air Wisconsin Airlines Corp              2004                Y   \n",
              "7691      ZW  Air Wisconsin Airlines Corp              2004                Y   \n",
              "7692      ZW  Air Wisconsin Airlines Corp              2004                Y   \n",
              "7693      ZW  Air Wisconsin Airlines Corp              2004                Y   \n",
              "7694      ZW  Air Wisconsin Airlines Corp              2000                Y   \n",
              "\n",
              "                    MANUFACTURER                 MODEL  CAPACITY_IN_POUNDS  \n",
              "0                         Boeing             BBJ7377EG              171000  \n",
              "1                     Bombardier         GlobalExpress               96000  \n",
              "2                     Bombardier         GlobalExpress               99500  \n",
              "3     Dassault-Falcon-2000EXEASy  DASSAULT-FALCON-2000               90700  \n",
              "4                     Gulfstream              GA-IV-IV               74600  \n",
              "...                          ...                   ...                 ...  \n",
              "7690                  Bombardier                  CL65               12972  \n",
              "7691                  Bombardier                  CL65               12972  \n",
              "7692                  Bombardier                  CL65               12972  \n",
              "7693                  Bombardier                  CL65               12972  \n",
              "7694                  Bombardier                  CL65               12972  \n",
              "\n",
              "[7695 rows x 7 columns]"
            ]
          },
          "execution_count": 1,
          "metadata": {},
          "output_type": "execute_result"
        }
      ],
      "source": [
        "import pandas as pd\n",
        "req_col = ['CARRIER', 'CARRIER_NAME', 'OPERATING_STATUS', 'MANUFACTURER','MODEL', 'CAPACITY_IN_POUNDS', 'MANUFACTURE_YEAR']\n",
        "BTS_fleet_pd = pd.read_csv('1053933928_T_F41SCHEDULE_B43.csv', usecols= req_col)\n",
        "BTS_fleet_pd      "
      ]
    },
    {
      "cell_type": "markdown",
      "metadata": {
        "id": "8iJoUUGHQ5bs"
      },
      "source": [
        "### Fleet: Data Cleansing and Transforming"
      ]
    },
    {
      "cell_type": "markdown",
      "metadata": {
        "id": "0qy59v6SQ5bs"
      },
      "source": [
        "With the overwhelming amount of data provided for each individual aircraft it is difficult to analyse the fleet fingerprint. To make this data more manageable and enhance the data quality, data cleansing was carried out. Removal of redundant data and duplication as well as standardisation for the manufacturers columns has been carried out."
      ]
    },
    {
      "cell_type": "markdown",
      "metadata": {
        "id": "d-i9SXfrQ5bt"
      },
      "source": [
        "#### Removing Redundant data"
      ]
    },
    {
      "cell_type": "markdown",
      "metadata": {
        "id": "KY3tltDnQ5bu"
      },
      "source": [
        "The rows which contained non-operating planes or airlines beyond the scope of this project have been removed, resulting in a significantly smaller dataframe."
      ]
    },
    {
      "cell_type": "code",
      "execution_count": null,
      "metadata": {
        "id": "Rvy5QgNNQ5bv",
        "outputId": "2f833e85-6ae1-42c6-a562-dc602c0e244c"
      },
      "outputs": [
        {
          "data": {
            "text/html": [
              "<div>\n",
              "<style scoped>\n",
              "    .dataframe tbody tr th:only-of-type {\n",
              "        vertical-align: middle;\n",
              "    }\n",
              "\n",
              "    .dataframe tbody tr th {\n",
              "        vertical-align: top;\n",
              "    }\n",
              "\n",
              "    .dataframe thead th {\n",
              "        text-align: right;\n",
              "    }\n",
              "</style>\n",
              "<table border=\"1\" class=\"dataframe\">\n",
              "  <thead>\n",
              "    <tr style=\"text-align: right;\">\n",
              "      <th></th>\n",
              "      <th>CARRIER</th>\n",
              "      <th>CARRIER_NAME</th>\n",
              "      <th>MANUFACTURE_YEAR</th>\n",
              "      <th>OPERATING_STATUS</th>\n",
              "      <th>MANUFACTURER</th>\n",
              "      <th>MODEL</th>\n",
              "      <th>CAPACITY_IN_POUNDS</th>\n",
              "    </tr>\n",
              "  </thead>\n",
              "  <tbody>\n",
              "    <tr>\n",
              "      <th>750</th>\n",
              "      <td>AA</td>\n",
              "      <td>American Airlines Inc.</td>\n",
              "      <td>1999</td>\n",
              "      <td>Y</td>\n",
              "      <td>Airbus</td>\n",
              "      <td>A320-232</td>\n",
              "      <td>38500</td>\n",
              "    </tr>\n",
              "    <tr>\n",
              "      <th>751</th>\n",
              "      <td>AA</td>\n",
              "      <td>American Airlines Inc.</td>\n",
              "      <td>1999</td>\n",
              "      <td>Y</td>\n",
              "      <td>Airbus</td>\n",
              "      <td>A320-232</td>\n",
              "      <td>38500</td>\n",
              "    </tr>\n",
              "    <tr>\n",
              "      <th>752</th>\n",
              "      <td>AA</td>\n",
              "      <td>American Airlines Inc.</td>\n",
              "      <td>1999</td>\n",
              "      <td>Y</td>\n",
              "      <td>Airbus</td>\n",
              "      <td>A320-232</td>\n",
              "      <td>38500</td>\n",
              "    </tr>\n",
              "    <tr>\n",
              "      <th>753</th>\n",
              "      <td>AA</td>\n",
              "      <td>American Airlines Inc.</td>\n",
              "      <td>1999</td>\n",
              "      <td>Y</td>\n",
              "      <td>Airbus</td>\n",
              "      <td>A320-232</td>\n",
              "      <td>38500</td>\n",
              "    </tr>\n",
              "    <tr>\n",
              "      <th>754</th>\n",
              "      <td>AA</td>\n",
              "      <td>American Airlines Inc.</td>\n",
              "      <td>2014</td>\n",
              "      <td>Y</td>\n",
              "      <td>Boeing</td>\n",
              "      <td>B737-823</td>\n",
              "      <td>40800</td>\n",
              "    </tr>\n",
              "    <tr>\n",
              "      <th>...</th>\n",
              "      <td>...</td>\n",
              "      <td>...</td>\n",
              "      <td>...</td>\n",
              "      <td>...</td>\n",
              "      <td>...</td>\n",
              "      <td>...</td>\n",
              "      <td>...</td>\n",
              "    </tr>\n",
              "    <tr>\n",
              "      <th>7224</th>\n",
              "      <td>WN</td>\n",
              "      <td>Southwest Airlines Co.</td>\n",
              "      <td>2020</td>\n",
              "      <td>Y</td>\n",
              "      <td>THEBOEINGCO</td>\n",
              "      <td>B-737-8</td>\n",
              "      <td>48421</td>\n",
              "    </tr>\n",
              "    <tr>\n",
              "      <th>7225</th>\n",
              "      <td>WN</td>\n",
              "      <td>Southwest Airlines Co.</td>\n",
              "      <td>2020</td>\n",
              "      <td>Y</td>\n",
              "      <td>THEBOEINGCO</td>\n",
              "      <td>B-737-8</td>\n",
              "      <td>48421</td>\n",
              "    </tr>\n",
              "    <tr>\n",
              "      <th>7226</th>\n",
              "      <td>WN</td>\n",
              "      <td>Southwest Airlines Co.</td>\n",
              "      <td>2020</td>\n",
              "      <td>Y</td>\n",
              "      <td>THEBOEINGCO</td>\n",
              "      <td>B-737-8</td>\n",
              "      <td>48421</td>\n",
              "    </tr>\n",
              "    <tr>\n",
              "      <th>7227</th>\n",
              "      <td>WN</td>\n",
              "      <td>Southwest Airlines Co.</td>\n",
              "      <td>2020</td>\n",
              "      <td>Y</td>\n",
              "      <td>THEBOEINGCO</td>\n",
              "      <td>B-737-8</td>\n",
              "      <td>48421</td>\n",
              "    </tr>\n",
              "    <tr>\n",
              "      <th>7228</th>\n",
              "      <td>WN</td>\n",
              "      <td>Southwest Airlines Co.</td>\n",
              "      <td>2020</td>\n",
              "      <td>Y</td>\n",
              "      <td>THEBOEINGCO</td>\n",
              "      <td>B-737-8</td>\n",
              "      <td>48421</td>\n",
              "    </tr>\n",
              "  </tbody>\n",
              "</table>\n",
              "<p>4470 rows × 7 columns</p>\n",
              "</div>"
            ],
            "text/plain": [
              "     CARRIER            CARRIER_NAME  MANUFACTURE_YEAR OPERATING_STATUS  \\\n",
              "750       AA  American Airlines Inc.              1999                Y   \n",
              "751       AA  American Airlines Inc.              1999                Y   \n",
              "752       AA  American Airlines Inc.              1999                Y   \n",
              "753       AA  American Airlines Inc.              1999                Y   \n",
              "754       AA  American Airlines Inc.              2014                Y   \n",
              "...      ...                     ...               ...              ...   \n",
              "7224      WN  Southwest Airlines Co.              2020                Y   \n",
              "7225      WN  Southwest Airlines Co.              2020                Y   \n",
              "7226      WN  Southwest Airlines Co.              2020                Y   \n",
              "7227      WN  Southwest Airlines Co.              2020                Y   \n",
              "7228      WN  Southwest Airlines Co.              2020                Y   \n",
              "\n",
              "     MANUFACTURER     MODEL  CAPACITY_IN_POUNDS  \n",
              "750        Airbus  A320-232               38500  \n",
              "751        Airbus  A320-232               38500  \n",
              "752        Airbus  A320-232               38500  \n",
              "753        Airbus  A320-232               38500  \n",
              "754        Boeing  B737-823               40800  \n",
              "...           ...       ...                 ...  \n",
              "7224  THEBOEINGCO   B-737-8               48421  \n",
              "7225  THEBOEINGCO   B-737-8               48421  \n",
              "7226  THEBOEINGCO   B-737-8               48421  \n",
              "7227  THEBOEINGCO   B-737-8               48421  \n",
              "7228  THEBOEINGCO   B-737-8               48421  \n",
              "\n",
              "[4470 rows x 7 columns]"
            ]
          },
          "execution_count": 2,
          "metadata": {},
          "output_type": "execute_result"
        }
      ],
      "source": [
        "airlines_list ='Alaska Airlines Inc.', 'American Airlines Inc.', 'Delta Air Lines Inc.', 'Frontier Airlines Inc.','Hawaiian Airlines Inc.', 'JetBlue Airways', 'SkyWest Airlines Inc.', 'Southwest Airlines Co.', 'Spirit Air Lines', 'United Air Lines Inc.'\n",
        "BTS_fleet_pd = BTS_fleet_pd[(BTS_fleet_pd.CARRIER_NAME.isin(airlines_list)) & (BTS_fleet_pd.OPERATING_STATUS == 'Y')]\n",
        "BTS_fleet_pd"
      ]
    },
    {
      "cell_type": "markdown",
      "metadata": {
        "id": "UZ8PllTWQ5by"
      },
      "source": [
        "#### Standardising Manufacturer Names"
      ]
    },
    {
      "cell_type": "markdown",
      "metadata": {
        "id": "CXWEs2_hQ5bz"
      },
      "source": [
        "To check the current extent of standardisation, the manufacturers currently included in the dataset will be viewed. As can be seen below many of the manufacturers have been listed with varying names, this will make it difficult when visualising the data later."
      ]
    },
    {
      "cell_type": "code",
      "execution_count": null,
      "metadata": {
        "id": "rvLemW99Q5b1",
        "outputId": "2e3acf94-bb50-430d-d634-67a85380ec78"
      },
      "outputs": [
        {
          "name": "stdout",
          "output_type": "stream",
          "text": [
            "['Airbus', 'Boeing', 'TheBoeingCompany', 'AirbusCompany', 'Embraer', 'AirbusIndustrie', 'BOEINGCOMPANY', 'AirbusIndustries', 'Bombardier', 'BoeingCo', 'THEBOEINGCO']\n"
          ]
        }
      ],
      "source": [
        "man_ls = []\n",
        "\n",
        "for model in BTS_fleet_pd['MANUFACTURER']:\n",
        "    if model not in man_ls:\n",
        "        man_ls.append(model)\n",
        "print(man_ls)"
      ]
    },
    {
      "cell_type": "markdown",
      "metadata": {
        "id": "8d8ZKedpQ5b2"
      },
      "source": [
        "The manufacturer names have been standardised below and the resulting dataframe has been reindexed"
      ]
    },
    {
      "cell_type": "code",
      "execution_count": null,
      "metadata": {
        "id": "i-EePBR9Q5b3",
        "outputId": "8b32a3a1-c8d8-4317-cafd-1f9ccc891b05",
        "scrolled": false
      },
      "outputs": [
        {
          "name": "stderr",
          "output_type": "stream",
          "text": [
            "D:\\Jupyter\\lib\\site-packages\\pandas\\core\\frame.py:4524: SettingWithCopyWarning: \n",
            "A value is trying to be set on a copy of a slice from a DataFrame\n",
            "\n",
            "See the caveats in the documentation: https://pandas.pydata.org/pandas-docs/stable/user_guide/indexing.html#returning-a-view-versus-a-copy\n",
            "  return super().replace(\n"
          ]
        },
        {
          "data": {
            "text/html": [
              "<div>\n",
              "<style scoped>\n",
              "    .dataframe tbody tr th:only-of-type {\n",
              "        vertical-align: middle;\n",
              "    }\n",
              "\n",
              "    .dataframe tbody tr th {\n",
              "        vertical-align: top;\n",
              "    }\n",
              "\n",
              "    .dataframe thead th {\n",
              "        text-align: right;\n",
              "    }\n",
              "</style>\n",
              "<table border=\"1\" class=\"dataframe\">\n",
              "  <thead>\n",
              "    <tr style=\"text-align: right;\">\n",
              "      <th></th>\n",
              "      <th>CARRIER</th>\n",
              "      <th>CARRIER_NAME</th>\n",
              "      <th>MANUFACTURE_YEAR</th>\n",
              "      <th>OPERATING_STATUS</th>\n",
              "      <th>MANUFACTURER</th>\n",
              "      <th>MODEL</th>\n",
              "      <th>CAPACITY_IN_POUNDS</th>\n",
              "    </tr>\n",
              "  </thead>\n",
              "  <tbody>\n",
              "    <tr>\n",
              "      <th>0</th>\n",
              "      <td>AA</td>\n",
              "      <td>American Airlines Inc.</td>\n",
              "      <td>1999</td>\n",
              "      <td>Y</td>\n",
              "      <td>AIRBUS</td>\n",
              "      <td>A320-232</td>\n",
              "      <td>38500</td>\n",
              "    </tr>\n",
              "    <tr>\n",
              "      <th>1</th>\n",
              "      <td>AA</td>\n",
              "      <td>American Airlines Inc.</td>\n",
              "      <td>1999</td>\n",
              "      <td>Y</td>\n",
              "      <td>AIRBUS</td>\n",
              "      <td>A320-232</td>\n",
              "      <td>38500</td>\n",
              "    </tr>\n",
              "    <tr>\n",
              "      <th>2</th>\n",
              "      <td>AA</td>\n",
              "      <td>American Airlines Inc.</td>\n",
              "      <td>1999</td>\n",
              "      <td>Y</td>\n",
              "      <td>AIRBUS</td>\n",
              "      <td>A320-232</td>\n",
              "      <td>38500</td>\n",
              "    </tr>\n",
              "    <tr>\n",
              "      <th>3</th>\n",
              "      <td>AA</td>\n",
              "      <td>American Airlines Inc.</td>\n",
              "      <td>1999</td>\n",
              "      <td>Y</td>\n",
              "      <td>AIRBUS</td>\n",
              "      <td>A320-232</td>\n",
              "      <td>38500</td>\n",
              "    </tr>\n",
              "    <tr>\n",
              "      <th>4</th>\n",
              "      <td>AA</td>\n",
              "      <td>American Airlines Inc.</td>\n",
              "      <td>2014</td>\n",
              "      <td>Y</td>\n",
              "      <td>BOEING</td>\n",
              "      <td>B737-823</td>\n",
              "      <td>40800</td>\n",
              "    </tr>\n",
              "    <tr>\n",
              "      <th>...</th>\n",
              "      <td>...</td>\n",
              "      <td>...</td>\n",
              "      <td>...</td>\n",
              "      <td>...</td>\n",
              "      <td>...</td>\n",
              "      <td>...</td>\n",
              "      <td>...</td>\n",
              "    </tr>\n",
              "    <tr>\n",
              "      <th>4465</th>\n",
              "      <td>WN</td>\n",
              "      <td>Southwest Airlines Co.</td>\n",
              "      <td>2020</td>\n",
              "      <td>Y</td>\n",
              "      <td>BOEING</td>\n",
              "      <td>B-737-8</td>\n",
              "      <td>48421</td>\n",
              "    </tr>\n",
              "    <tr>\n",
              "      <th>4466</th>\n",
              "      <td>WN</td>\n",
              "      <td>Southwest Airlines Co.</td>\n",
              "      <td>2020</td>\n",
              "      <td>Y</td>\n",
              "      <td>BOEING</td>\n",
              "      <td>B-737-8</td>\n",
              "      <td>48421</td>\n",
              "    </tr>\n",
              "    <tr>\n",
              "      <th>4467</th>\n",
              "      <td>WN</td>\n",
              "      <td>Southwest Airlines Co.</td>\n",
              "      <td>2020</td>\n",
              "      <td>Y</td>\n",
              "      <td>BOEING</td>\n",
              "      <td>B-737-8</td>\n",
              "      <td>48421</td>\n",
              "    </tr>\n",
              "    <tr>\n",
              "      <th>4468</th>\n",
              "      <td>WN</td>\n",
              "      <td>Southwest Airlines Co.</td>\n",
              "      <td>2020</td>\n",
              "      <td>Y</td>\n",
              "      <td>BOEING</td>\n",
              "      <td>B-737-8</td>\n",
              "      <td>48421</td>\n",
              "    </tr>\n",
              "    <tr>\n",
              "      <th>4469</th>\n",
              "      <td>WN</td>\n",
              "      <td>Southwest Airlines Co.</td>\n",
              "      <td>2020</td>\n",
              "      <td>Y</td>\n",
              "      <td>BOEING</td>\n",
              "      <td>B-737-8</td>\n",
              "      <td>48421</td>\n",
              "    </tr>\n",
              "  </tbody>\n",
              "</table>\n",
              "<p>4470 rows × 7 columns</p>\n",
              "</div>"
            ],
            "text/plain": [
              "     CARRIER            CARRIER_NAME  MANUFACTURE_YEAR OPERATING_STATUS  \\\n",
              "0         AA  American Airlines Inc.              1999                Y   \n",
              "1         AA  American Airlines Inc.              1999                Y   \n",
              "2         AA  American Airlines Inc.              1999                Y   \n",
              "3         AA  American Airlines Inc.              1999                Y   \n",
              "4         AA  American Airlines Inc.              2014                Y   \n",
              "...      ...                     ...               ...              ...   \n",
              "4465      WN  Southwest Airlines Co.              2020                Y   \n",
              "4466      WN  Southwest Airlines Co.              2020                Y   \n",
              "4467      WN  Southwest Airlines Co.              2020                Y   \n",
              "4468      WN  Southwest Airlines Co.              2020                Y   \n",
              "4469      WN  Southwest Airlines Co.              2020                Y   \n",
              "\n",
              "     MANUFACTURER     MODEL  CAPACITY_IN_POUNDS  \n",
              "0          AIRBUS  A320-232               38500  \n",
              "1          AIRBUS  A320-232               38500  \n",
              "2          AIRBUS  A320-232               38500  \n",
              "3          AIRBUS  A320-232               38500  \n",
              "4          BOEING  B737-823               40800  \n",
              "...           ...       ...                 ...  \n",
              "4465       BOEING   B-737-8               48421  \n",
              "4466       BOEING   B-737-8               48421  \n",
              "4467       BOEING   B-737-8               48421  \n",
              "4468       BOEING   B-737-8               48421  \n",
              "4469       BOEING   B-737-8               48421  \n",
              "\n",
              "[4470 rows x 7 columns]"
            ]
          },
          "execution_count": 4,
          "metadata": {},
          "output_type": "execute_result"
        }
      ],
      "source": [
        "import pandas as pd\n",
        "\n",
        "BTS_fleet_pd.replace(to_replace =[\"Airbus\", \"AirbusCompany\", \"AirbusIndustrie\", \"AirbusIndustries\"], \n",
        "                            value =\"AIRBUS\", inplace = True)\n",
        "BTS_fleet_pd.replace(to_replace =[\"Boeing\", \"TheBoeingCompany\", \"BOEINGCOMPANY\", \"THEBOEINGCO\", \"BoeingCo\"], \n",
        "                            value =\"BOEING\", inplace = True)\n",
        "BTS_fleet_pd.replace(to_replace =[\"Embraer\"], \n",
        "                            value =\"EMBRAER\", inplace = True)\n",
        "BTS_fleet_pd.replace(to_replace =[\"Bombardier\"], \n",
        "                            value =\"BOMBARDIER\", inplace = True)\n",
        "BTS_fleet_pd.reset_index(drop = True)"
      ]
    },
    {
      "cell_type": "markdown",
      "metadata": {
        "id": "9QVkMXRyQ5b3"
      },
      "source": [
        "This data frame is then saved as a csv. This version of the data will be useful for visualising the capacity and manufacturer year distributions later"
      ]
    },
    {
      "cell_type": "code",
      "execution_count": null,
      "metadata": {
        "id": "cd5RjritQ5b4"
      },
      "outputs": [],
      "source": [
        "from datetime import date\n",
        "today = date.today()\n",
        "file_name = 'BTS_fleet' + today.strftime(\"%d%m%y\") + '.csv'\n",
        "BTS_fleet_pd.to_csv(file_name)"
      ]
    },
    {
      "cell_type": "markdown",
      "metadata": {
        "id": "jvG_yDonQ5b4"
      },
      "source": [
        "#### Removing Duplicates"
      ]
    },
    {
      "cell_type": "markdown",
      "metadata": {
        "id": "KBrIj1nGQ5b4"
      },
      "source": [
        "Whilst the full dataset will be useful when analysing capacity and nanufacturer year, when analysisng the fleet model distribution these variabled complicate the data set. Resultantly, duplicate model listings have been summed to make visualisation easier later. Currently within the dataset every individual aircraft is listed."
      ]
    },
    {
      "cell_type": "code",
      "execution_count": null,
      "metadata": {
        "id": "priqVekPQ5b5",
        "outputId": "46c73bf6-af66-409b-8e64-7c37790904c4"
      },
      "outputs": [
        {
          "data": {
            "text/html": [
              "<div>\n",
              "<style scoped>\n",
              "    .dataframe tbody tr th:only-of-type {\n",
              "        vertical-align: middle;\n",
              "    }\n",
              "\n",
              "    .dataframe tbody tr th {\n",
              "        vertical-align: top;\n",
              "    }\n",
              "\n",
              "    .dataframe thead th {\n",
              "        text-align: right;\n",
              "    }\n",
              "</style>\n",
              "<table border=\"1\" class=\"dataframe\">\n",
              "  <thead>\n",
              "    <tr style=\"text-align: right;\">\n",
              "      <th></th>\n",
              "      <th>CARRIER</th>\n",
              "      <th>CARRIER_NAME</th>\n",
              "      <th>MANUFACTURE_YEAR</th>\n",
              "      <th>OPERATING_STATUS</th>\n",
              "      <th>MANUFACTURER</th>\n",
              "      <th>MODEL</th>\n",
              "      <th>CAPACITY_IN_POUNDS</th>\n",
              "      <th>NO. AIRCRAFTS</th>\n",
              "    </tr>\n",
              "  </thead>\n",
              "  <tbody>\n",
              "    <tr>\n",
              "      <th>0</th>\n",
              "      <td>AA</td>\n",
              "      <td>American Airlines Inc.</td>\n",
              "      <td>1997</td>\n",
              "      <td>Y</td>\n",
              "      <td>AIRBUS</td>\n",
              "      <td>A320-232</td>\n",
              "      <td>38500</td>\n",
              "      <td>1</td>\n",
              "    </tr>\n",
              "    <tr>\n",
              "      <th>1</th>\n",
              "      <td>AA</td>\n",
              "      <td>American Airlines Inc.</td>\n",
              "      <td>1998</td>\n",
              "      <td>Y</td>\n",
              "      <td>AIRBUS</td>\n",
              "      <td>A319-112</td>\n",
              "      <td>35000</td>\n",
              "      <td>6</td>\n",
              "    </tr>\n",
              "    <tr>\n",
              "      <th>2</th>\n",
              "      <td>AA</td>\n",
              "      <td>American Airlines Inc.</td>\n",
              "      <td>1998</td>\n",
              "      <td>Y</td>\n",
              "      <td>AIRBUS</td>\n",
              "      <td>A319-132</td>\n",
              "      <td>36700</td>\n",
              "      <td>3</td>\n",
              "    </tr>\n",
              "    <tr>\n",
              "      <th>3</th>\n",
              "      <td>AA</td>\n",
              "      <td>American Airlines Inc.</td>\n",
              "      <td>1998</td>\n",
              "      <td>Y</td>\n",
              "      <td>AIRBUS</td>\n",
              "      <td>A320-214</td>\n",
              "      <td>37200</td>\n",
              "      <td>1</td>\n",
              "    </tr>\n",
              "    <tr>\n",
              "      <th>4</th>\n",
              "      <td>AA</td>\n",
              "      <td>American Airlines Inc.</td>\n",
              "      <td>1998</td>\n",
              "      <td>Y</td>\n",
              "      <td>AIRBUS</td>\n",
              "      <td>A320-232</td>\n",
              "      <td>38500</td>\n",
              "      <td>3</td>\n",
              "    </tr>\n",
              "    <tr>\n",
              "      <th>...</th>\n",
              "      <td>...</td>\n",
              "      <td>...</td>\n",
              "      <td>...</td>\n",
              "      <td>...</td>\n",
              "      <td>...</td>\n",
              "      <td>...</td>\n",
              "      <td>...</td>\n",
              "      <td>...</td>\n",
              "    </tr>\n",
              "    <tr>\n",
              "      <th>551</th>\n",
              "      <td>WN</td>\n",
              "      <td>Southwest Airlines Co.</td>\n",
              "      <td>2017</td>\n",
              "      <td>Y</td>\n",
              "      <td>BOEING</td>\n",
              "      <td>B-737-8H4</td>\n",
              "      <td>43800</td>\n",
              "      <td>39</td>\n",
              "    </tr>\n",
              "    <tr>\n",
              "      <th>552</th>\n",
              "      <td>WN</td>\n",
              "      <td>Southwest Airlines Co.</td>\n",
              "      <td>2018</td>\n",
              "      <td>Y</td>\n",
              "      <td>BOEING</td>\n",
              "      <td>B-737-8</td>\n",
              "      <td>48421</td>\n",
              "      <td>17</td>\n",
              "    </tr>\n",
              "    <tr>\n",
              "      <th>553</th>\n",
              "      <td>WN</td>\n",
              "      <td>Southwest Airlines Co.</td>\n",
              "      <td>2018</td>\n",
              "      <td>Y</td>\n",
              "      <td>BOEING</td>\n",
              "      <td>B-737-8H4</td>\n",
              "      <td>43800</td>\n",
              "      <td>26</td>\n",
              "    </tr>\n",
              "    <tr>\n",
              "      <th>554</th>\n",
              "      <td>WN</td>\n",
              "      <td>Southwest Airlines Co.</td>\n",
              "      <td>2019</td>\n",
              "      <td>Y</td>\n",
              "      <td>BOEING</td>\n",
              "      <td>B-737-8</td>\n",
              "      <td>48421</td>\n",
              "      <td>3</td>\n",
              "    </tr>\n",
              "    <tr>\n",
              "      <th>555</th>\n",
              "      <td>WN</td>\n",
              "      <td>Southwest Airlines Co.</td>\n",
              "      <td>2020</td>\n",
              "      <td>Y</td>\n",
              "      <td>BOEING</td>\n",
              "      <td>B-737-8</td>\n",
              "      <td>48421</td>\n",
              "      <td>7</td>\n",
              "    </tr>\n",
              "  </tbody>\n",
              "</table>\n",
              "<p>556 rows × 8 columns</p>\n",
              "</div>"
            ],
            "text/plain": [
              "    CARRIER            CARRIER_NAME  MANUFACTURE_YEAR OPERATING_STATUS  \\\n",
              "0        AA  American Airlines Inc.              1997                Y   \n",
              "1        AA  American Airlines Inc.              1998                Y   \n",
              "2        AA  American Airlines Inc.              1998                Y   \n",
              "3        AA  American Airlines Inc.              1998                Y   \n",
              "4        AA  American Airlines Inc.              1998                Y   \n",
              "..      ...                     ...               ...              ...   \n",
              "551      WN  Southwest Airlines Co.              2017                Y   \n",
              "552      WN  Southwest Airlines Co.              2018                Y   \n",
              "553      WN  Southwest Airlines Co.              2018                Y   \n",
              "554      WN  Southwest Airlines Co.              2019                Y   \n",
              "555      WN  Southwest Airlines Co.              2020                Y   \n",
              "\n",
              "    MANUFACTURER      MODEL  CAPACITY_IN_POUNDS  NO. AIRCRAFTS  \n",
              "0         AIRBUS   A320-232               38500              1  \n",
              "1         AIRBUS   A319-112               35000              6  \n",
              "2         AIRBUS   A319-132               36700              3  \n",
              "3         AIRBUS   A320-214               37200              1  \n",
              "4         AIRBUS   A320-232               38500              3  \n",
              "..           ...        ...                 ...            ...  \n",
              "551       BOEING  B-737-8H4               43800             39  \n",
              "552       BOEING    B-737-8               48421             17  \n",
              "553       BOEING  B-737-8H4               43800             26  \n",
              "554       BOEING    B-737-8               48421              3  \n",
              "555       BOEING    B-737-8               48421              7  \n",
              "\n",
              "[556 rows x 8 columns]"
            ]
          },
          "execution_count": 6,
          "metadata": {},
          "output_type": "execute_result"
        }
      ],
      "source": [
        "BTS_fleetsize_pd = BTS_fleet_pd.groupby(BTS_fleet_pd.columns.tolist(),as_index=False).size()\n",
        "BTS_fleetsize_pd.rename(columns={\"size\": \"NO. AIRCRAFTS\"}, inplace = True)\n",
        "BTS_fleetsize_pd"
      ]
    },
    {
      "cell_type": "markdown",
      "metadata": {
        "id": "ihlGi_quQ5b6"
      },
      "source": [
        "To check that we now have no duplicate entries the data set for just one of the airlines will be reviewed: American Airlines"
      ]
    },
    {
      "cell_type": "code",
      "execution_count": null,
      "metadata": {
        "id": "mMozskFsQ5b6",
        "outputId": "d8e9f87b-6211-48b2-d3bd-52d79b151f86",
        "scrolled": false
      },
      "outputs": [
        {
          "data": {
            "text/html": [
              "<div>\n",
              "<style scoped>\n",
              "    .dataframe tbody tr th:only-of-type {\n",
              "        vertical-align: middle;\n",
              "    }\n",
              "\n",
              "    .dataframe tbody tr th {\n",
              "        vertical-align: top;\n",
              "    }\n",
              "\n",
              "    .dataframe thead th {\n",
              "        text-align: right;\n",
              "    }\n",
              "</style>\n",
              "<table border=\"1\" class=\"dataframe\">\n",
              "  <thead>\n",
              "    <tr style=\"text-align: right;\">\n",
              "      <th></th>\n",
              "      <th>CARRIER</th>\n",
              "      <th>CARRIER_NAME</th>\n",
              "      <th>MANUFACTURE_YEAR</th>\n",
              "      <th>OPERATING_STATUS</th>\n",
              "      <th>MANUFACTURER</th>\n",
              "      <th>MODEL</th>\n",
              "      <th>CAPACITY_IN_POUNDS</th>\n",
              "      <th>NO. AIRCRAFTS</th>\n",
              "    </tr>\n",
              "  </thead>\n",
              "  <tbody>\n",
              "    <tr>\n",
              "      <th>0</th>\n",
              "      <td>AA</td>\n",
              "      <td>American Airlines Inc.</td>\n",
              "      <td>1997</td>\n",
              "      <td>Y</td>\n",
              "      <td>AIRBUS</td>\n",
              "      <td>A320-232</td>\n",
              "      <td>38500</td>\n",
              "      <td>1</td>\n",
              "    </tr>\n",
              "    <tr>\n",
              "      <th>1</th>\n",
              "      <td>AA</td>\n",
              "      <td>American Airlines Inc.</td>\n",
              "      <td>1998</td>\n",
              "      <td>Y</td>\n",
              "      <td>AIRBUS</td>\n",
              "      <td>A319-112</td>\n",
              "      <td>35000</td>\n",
              "      <td>6</td>\n",
              "    </tr>\n",
              "    <tr>\n",
              "      <th>2</th>\n",
              "      <td>AA</td>\n",
              "      <td>American Airlines Inc.</td>\n",
              "      <td>1998</td>\n",
              "      <td>Y</td>\n",
              "      <td>AIRBUS</td>\n",
              "      <td>A319-132</td>\n",
              "      <td>36700</td>\n",
              "      <td>3</td>\n",
              "    </tr>\n",
              "    <tr>\n",
              "      <th>3</th>\n",
              "      <td>AA</td>\n",
              "      <td>American Airlines Inc.</td>\n",
              "      <td>1998</td>\n",
              "      <td>Y</td>\n",
              "      <td>AIRBUS</td>\n",
              "      <td>A320-214</td>\n",
              "      <td>37200</td>\n",
              "      <td>1</td>\n",
              "    </tr>\n",
              "    <tr>\n",
              "      <th>4</th>\n",
              "      <td>AA</td>\n",
              "      <td>American Airlines Inc.</td>\n",
              "      <td>1998</td>\n",
              "      <td>Y</td>\n",
              "      <td>AIRBUS</td>\n",
              "      <td>A320-232</td>\n",
              "      <td>38500</td>\n",
              "      <td>3</td>\n",
              "    </tr>\n",
              "    <tr>\n",
              "      <th>...</th>\n",
              "      <td>...</td>\n",
              "      <td>...</td>\n",
              "      <td>...</td>\n",
              "      <td>...</td>\n",
              "      <td>...</td>\n",
              "      <td>...</td>\n",
              "      <td>...</td>\n",
              "      <td>...</td>\n",
              "    </tr>\n",
              "    <tr>\n",
              "      <th>87</th>\n",
              "      <td>AA</td>\n",
              "      <td>American Airlines Inc.</td>\n",
              "      <td>2019</td>\n",
              "      <td>Y</td>\n",
              "      <td>BOEING</td>\n",
              "      <td>B737-800MAX</td>\n",
              "      <td>42900</td>\n",
              "      <td>6</td>\n",
              "    </tr>\n",
              "    <tr>\n",
              "      <th>88</th>\n",
              "      <td>AA</td>\n",
              "      <td>American Airlines Inc.</td>\n",
              "      <td>2019</td>\n",
              "      <td>Y</td>\n",
              "      <td>BOEING</td>\n",
              "      <td>B787-9</td>\n",
              "      <td>84600</td>\n",
              "      <td>2</td>\n",
              "    </tr>\n",
              "    <tr>\n",
              "      <th>89</th>\n",
              "      <td>AA</td>\n",
              "      <td>American Airlines Inc.</td>\n",
              "      <td>2020</td>\n",
              "      <td>Y</td>\n",
              "      <td>AIRBUS</td>\n",
              "      <td>A321-253NX</td>\n",
              "      <td>52200</td>\n",
              "      <td>16</td>\n",
              "    </tr>\n",
              "    <tr>\n",
              "      <th>90</th>\n",
              "      <td>AA</td>\n",
              "      <td>American Airlines Inc.</td>\n",
              "      <td>2020</td>\n",
              "      <td>Y</td>\n",
              "      <td>BOEING</td>\n",
              "      <td>B737-800MAX</td>\n",
              "      <td>42900</td>\n",
              "      <td>8</td>\n",
              "    </tr>\n",
              "    <tr>\n",
              "      <th>91</th>\n",
              "      <td>AA</td>\n",
              "      <td>American Airlines Inc.</td>\n",
              "      <td>2020</td>\n",
              "      <td>Y</td>\n",
              "      <td>BOEING</td>\n",
              "      <td>B787-8</td>\n",
              "      <td>84600</td>\n",
              "      <td>3</td>\n",
              "    </tr>\n",
              "  </tbody>\n",
              "</table>\n",
              "<p>92 rows × 8 columns</p>\n",
              "</div>"
            ],
            "text/plain": [
              "   CARRIER            CARRIER_NAME  MANUFACTURE_YEAR OPERATING_STATUS  \\\n",
              "0       AA  American Airlines Inc.              1997                Y   \n",
              "1       AA  American Airlines Inc.              1998                Y   \n",
              "2       AA  American Airlines Inc.              1998                Y   \n",
              "3       AA  American Airlines Inc.              1998                Y   \n",
              "4       AA  American Airlines Inc.              1998                Y   \n",
              "..     ...                     ...               ...              ...   \n",
              "87      AA  American Airlines Inc.              2019                Y   \n",
              "88      AA  American Airlines Inc.              2019                Y   \n",
              "89      AA  American Airlines Inc.              2020                Y   \n",
              "90      AA  American Airlines Inc.              2020                Y   \n",
              "91      AA  American Airlines Inc.              2020                Y   \n",
              "\n",
              "   MANUFACTURER        MODEL  CAPACITY_IN_POUNDS  NO. AIRCRAFTS  \n",
              "0        AIRBUS     A320-232               38500              1  \n",
              "1        AIRBUS     A319-112               35000              6  \n",
              "2        AIRBUS     A319-132               36700              3  \n",
              "3        AIRBUS     A320-214               37200              1  \n",
              "4        AIRBUS     A320-232               38500              3  \n",
              "..          ...          ...                 ...            ...  \n",
              "87       BOEING  B737-800MAX               42900              6  \n",
              "88       BOEING       B787-9               84600              2  \n",
              "89       AIRBUS   A321-253NX               52200             16  \n",
              "90       BOEING  B737-800MAX               42900              8  \n",
              "91       BOEING       B787-8               84600              3  \n",
              "\n",
              "[92 rows x 8 columns]"
            ]
          },
          "execution_count": 7,
          "metadata": {},
          "output_type": "execute_result"
        }
      ],
      "source": [
        "just_american = BTS_fleetsize_pd[BTS_fleetsize_pd.CARRIER == 'AA']\n",
        "just_american"
      ]
    },
    {
      "cell_type": "markdown",
      "metadata": {
        "id": "OP_NtaKBQ5b7"
      },
      "source": [
        "Based on reviewing the data for American Airlines, it is evident that some of the plane models can have different capacities. To simplify this data we need to focus on the model and sum up the number of aircrafts per model."
      ]
    },
    {
      "cell_type": "code",
      "execution_count": null,
      "metadata": {
        "id": "3yjzOEhlQ5b8",
        "outputId": "32985928-5ae6-4401-add7-43b8583745ad"
      },
      "outputs": [
        {
          "data": {
            "text/html": [
              "<div>\n",
              "<style scoped>\n",
              "    .dataframe tbody tr th:only-of-type {\n",
              "        vertical-align: middle;\n",
              "    }\n",
              "\n",
              "    .dataframe tbody tr th {\n",
              "        vertical-align: top;\n",
              "    }\n",
              "\n",
              "    .dataframe thead th {\n",
              "        text-align: right;\n",
              "    }\n",
              "</style>\n",
              "<table border=\"1\" class=\"dataframe\">\n",
              "  <thead>\n",
              "    <tr style=\"text-align: right;\">\n",
              "      <th></th>\n",
              "      <th>CARRIER</th>\n",
              "      <th>CARRIER_NAME</th>\n",
              "      <th>MANUFACTURER</th>\n",
              "      <th>MODEL</th>\n",
              "      <th>NO. AIRCRAFTS</th>\n",
              "    </tr>\n",
              "  </thead>\n",
              "  <tbody>\n",
              "    <tr>\n",
              "      <th>0</th>\n",
              "      <td>AA</td>\n",
              "      <td>American Airlines Inc.</td>\n",
              "      <td>AIRBUS</td>\n",
              "      <td>A319-112</td>\n",
              "      <td>62</td>\n",
              "    </tr>\n",
              "    <tr>\n",
              "      <th>1</th>\n",
              "      <td>AA</td>\n",
              "      <td>American Airlines Inc.</td>\n",
              "      <td>AIRBUS</td>\n",
              "      <td>A319-115</td>\n",
              "      <td>32</td>\n",
              "    </tr>\n",
              "    <tr>\n",
              "      <th>2</th>\n",
              "      <td>AA</td>\n",
              "      <td>American Airlines Inc.</td>\n",
              "      <td>AIRBUS</td>\n",
              "      <td>A319-132</td>\n",
              "      <td>39</td>\n",
              "    </tr>\n",
              "    <tr>\n",
              "      <th>3</th>\n",
              "      <td>AA</td>\n",
              "      <td>American Airlines Inc.</td>\n",
              "      <td>AIRBUS</td>\n",
              "      <td>A320-214</td>\n",
              "      <td>22</td>\n",
              "    </tr>\n",
              "    <tr>\n",
              "      <th>4</th>\n",
              "      <td>AA</td>\n",
              "      <td>American Airlines Inc.</td>\n",
              "      <td>AIRBUS</td>\n",
              "      <td>A320-232</td>\n",
              "      <td>26</td>\n",
              "    </tr>\n",
              "    <tr>\n",
              "      <th>...</th>\n",
              "      <td>...</td>\n",
              "      <td>...</td>\n",
              "      <td>...</td>\n",
              "      <td>...</td>\n",
              "      <td>...</td>\n",
              "    </tr>\n",
              "    <tr>\n",
              "      <th>105</th>\n",
              "      <td>WN</td>\n",
              "      <td>Southwest Airlines Co.</td>\n",
              "      <td>BOEING</td>\n",
              "      <td>B-737-7K9</td>\n",
              "      <td>4</td>\n",
              "    </tr>\n",
              "    <tr>\n",
              "      <th>106</th>\n",
              "      <td>WN</td>\n",
              "      <td>Southwest Airlines Co.</td>\n",
              "      <td>BOEING</td>\n",
              "      <td>B-737-7L9</td>\n",
              "      <td>5</td>\n",
              "    </tr>\n",
              "    <tr>\n",
              "      <th>107</th>\n",
              "      <td>WN</td>\n",
              "      <td>Southwest Airlines Co.</td>\n",
              "      <td>BOEING</td>\n",
              "      <td>B-737-7Q8</td>\n",
              "      <td>19</td>\n",
              "    </tr>\n",
              "    <tr>\n",
              "      <th>108</th>\n",
              "      <td>WN</td>\n",
              "      <td>Southwest Airlines Co.</td>\n",
              "      <td>BOEING</td>\n",
              "      <td>B-737-8</td>\n",
              "      <td>41</td>\n",
              "    </tr>\n",
              "    <tr>\n",
              "      <th>109</th>\n",
              "      <td>WN</td>\n",
              "      <td>Southwest Airlines Co.</td>\n",
              "      <td>BOEING</td>\n",
              "      <td>B-737-8H4</td>\n",
              "      <td>207</td>\n",
              "    </tr>\n",
              "  </tbody>\n",
              "</table>\n",
              "<p>110 rows × 5 columns</p>\n",
              "</div>"
            ],
            "text/plain": [
              "    CARRIER            CARRIER_NAME MANUFACTURER      MODEL  NO. AIRCRAFTS\n",
              "0        AA  American Airlines Inc.       AIRBUS   A319-112             62\n",
              "1        AA  American Airlines Inc.       AIRBUS   A319-115             32\n",
              "2        AA  American Airlines Inc.       AIRBUS   A319-132             39\n",
              "3        AA  American Airlines Inc.       AIRBUS   A320-214             22\n",
              "4        AA  American Airlines Inc.       AIRBUS   A320-232             26\n",
              "..      ...                     ...          ...        ...            ...\n",
              "105      WN  Southwest Airlines Co.       BOEING  B-737-7K9              4\n",
              "106      WN  Southwest Airlines Co.       BOEING  B-737-7L9              5\n",
              "107      WN  Southwest Airlines Co.       BOEING  B-737-7Q8             19\n",
              "108      WN  Southwest Airlines Co.       BOEING    B-737-8             41\n",
              "109      WN  Southwest Airlines Co.       BOEING  B-737-8H4            207\n",
              "\n",
              "[110 rows x 5 columns]"
            ]
          },
          "execution_count": 8,
          "metadata": {},
          "output_type": "execute_result"
        }
      ],
      "source": [
        "BTS_model_pd = BTS_fleetsize_pd.groupby(['CARRIER','CARRIER_NAME','MANUFACTURER','MODEL'], as_index = False)[[\"NO. AIRCRAFTS\"]].sum()\n",
        "BTS_model_pd"
      ]
    },
    {
      "cell_type": "markdown",
      "metadata": {
        "id": "hXFiPi_QQ5b9"
      },
      "source": [
        "This refined data set has been saved."
      ]
    },
    {
      "cell_type": "code",
      "execution_count": null,
      "metadata": {
        "id": "yAVLM6-AQ5b9"
      },
      "outputs": [],
      "source": [
        "from datetime import date\n",
        "today = date.today()\n",
        "file_name = 'BTS_models' + today.strftime(\"%d%m%y\") + '.csv'\n",
        "BTS_fleetsize_pd.to_csv(file_name)"
      ]
    },
    {
      "cell_type": "markdown",
      "metadata": {
        "id": "5TOnzxpmQ5b9"
      },
      "source": [
        "### Fleet: Data Visualisation"
      ]
    },
    {
      "cell_type": "markdown",
      "metadata": {
        "id": "mLdDjJbSQ5b-"
      },
      "source": [
        "#### Fleet Models Pie Chart"
      ]
    },
    {
      "cell_type": "markdown",
      "metadata": {
        "id": "4K2azMv2Q5b-"
      },
      "source": [
        "A key aspect of the analysis to be carried out is an appreciation of the type of aircraft each airline has. It is possible there may be a correlation between the make of aircraft and the total emmissions. The method for visualising this aspect of the data set will be pie charts as the model data is categorical.\n",
        "\n",
        "A function for creating nested pie charts has been written below. Within the pie chart the outer ring shows the aircraft manufacturer with the inner ring showing individual aircraft models. As there are many different models this approach was considered useful to make a diagram which was more human readable. Much of the complexity of the function is due to the color mapping process.\n",
        "\n",
        "A qualitative color map (Tab20c) was used to colour each wedge in the pie chart. However, as this colour map only contained 4 distinct hues for each colour further work was required to repeat hues the appropriate number of times within the graph. Additionally consideration was required when assigning a matching coulour for the outer wedge in the pie chart. The result of the care taken in the colour picking process is that it is easy to see which models relate to which manufacturer. The parts of the code associated with the color mapping process start with the comment 'Color Picking'.\n",
        "\n",
        "The nested pie chart was then created using wedgeprops to set both the inner and outer rings."
      ]
    },
    {
      "cell_type": "code",
      "execution_count": null,
      "metadata": {
        "id": "hEXiE0eqQ5b-",
        "outputId": "5d4c21a1-2218-4964-d77c-5d1a6c379ddd",
        "scrolled": false
      },
      "outputs": [
        {
          "data": {
            "text/plain": [
              "<function matplotlib.pyplot.show(close=None, block=None)>"
            ]
          },
          "execution_count": 10,
          "metadata": {},
          "output_type": "execute_result"
        },
        {
          "data": {
            "image/png": "[encoded data removed]",
            "text/plain": [
              "<Figure size 432x288 with 1 Axes>"
            ]
          },
          "metadata": {},
          "output_type": "display_data"
        }
      ],
      "source": [
        "import matplotlib.pyplot as plt\n",
        "#import numpy as np\n",
        "\n",
        "def fleet_pie (carr):\n",
        "    carrier_pd = BTS_model_pd[BTS_model_pd.CARRIER == carr]\n",
        "    name = carrier_pd['CARRIER_NAME'].iloc[0] + ' - Total Aircrafts: ' + str(carrier_pd['NO. AIRCRAFTS'].sum())\n",
        "    size = 0.9\n",
        "\n",
        "    fig, ax = plt.subplots()\n",
        "    \n",
        "    ##Color Picking\n",
        "    airbus_no = len(carrier_pd[(carrier_pd['MANUFACTURER']=='AIRBUS')])\n",
        "    boeing_no = len(carrier_pd[(carrier_pd['MANUFACTURER']=='BOEING')])\n",
        "    bombardier_no = len(carrier_pd[(carrier_pd['MANUFACTURER']=='BOMBARDIER')])\n",
        "    embraer_no = len(carrier_pd[(carrier_pd['MANUFACTURER']=='EMBRAER')])\n",
        "\n",
        "\n",
        "    blues = [1, 2, 3]* 5\n",
        "    oranges = [5, 6, 7]* 5\n",
        "    purples = [13, 14, 15]* 5\n",
        "    greens = [9, 10, 11]* 5\n",
        "\n",
        "    airbus_col = blues[0: airbus_no]\n",
        "    boeing_col = oranges[0:boeing_no]\n",
        "    bombardier_col = purples[0:bombardier_no]\n",
        "    embraer_col = greens[0: embraer_no]\n",
        "\n",
        "    col_ls = [airbus_col, boeing_col, bombardier_col, embraer_col]\n",
        "\n",
        "    outer_cols = []\n",
        "\n",
        "    for ls in col_ls:\n",
        "        if ls:\n",
        "            outer_cols.append((ls[0]//4)*4)\n",
        "\n",
        "    inner_cols = airbus_col + boeing_col + bombardier_col + embraer_col\n",
        "\n",
        "    cmap = plt.cm.get_cmap('tab20c')\n",
        "    outer_colors = cmap(outer_cols)\n",
        "    inner_colors = cmap(inner_cols)\n",
        "    \n",
        "    #Making Labels\n",
        "    \n",
        "    manufacturer_labels = []\n",
        "\n",
        "    for man in carrier_pd['MANUFACTURER']:\n",
        "        if man not in manufacturer_labels:\n",
        "            manufacturer_labels.append(man)\n",
        "    \n",
        "    model_labels = []\n",
        "\n",
        "    for mod in carrier_pd['MODEL']:\n",
        "        if mod not in model_labels:\n",
        "            model_labels.append(mod)\n",
        "    \n",
        "    #Pie Chart Generating\n",
        "    \n",
        "    ax.pie(carrier_pd.groupby('MANUFACTURER')[\"NO. AIRCRAFTS\"].sum(), radius=3, autopct='%1.1f%%', colors = outer_colors, \n",
        "           wedgeprops=dict(width=size, edgecolor='w'), textprops={'color':\"k\", 'fontsize':15}, pctdistance = 1.1)\n",
        "    ax.legend(manufacturer_labels,\n",
        "          loc=\"center left\",\n",
        "          bbox_to_anchor=(2, 0, 0.5, 1), prop={\"size\":20})\n",
        "\n",
        "    ax.pie(carrier_pd['NO. AIRCRAFTS'], radius=3-size, colors = inner_colors, labels = model_labels,textprops={'color':\"k\", 'fontsize':8},\n",
        "           wedgeprops=dict(width=size, edgecolor='w'))\n",
        "    \n",
        "    plt.title(name, pad=210, fontsize=20)\n",
        "\n",
        "    ax.set(aspect=\"equal\")\n",
        "    return (plt.show)\n",
        "fleet_pie('AA')"
      ]
    },
    {
      "cell_type": "markdown",
      "metadata": {
        "id": "yUQvBKoYQ5cA"
      },
      "source": [
        "#### Fleet Characteristics Distribution Histograms"
      ]
    },
    {
      "cell_type": "markdown",
      "metadata": {
        "id": "BMTos78PQ5cA"
      },
      "source": [
        "In addition to the analysis of the fleet models, fleet capacity and age are also useful variables to consider when reviewing how the fleet impacts the airline emmissions. As this is numerical data, the distributions of these variables can be visualised using histograms."
      ]
    },
    {
      "cell_type": "code",
      "execution_count": null,
      "metadata": {
        "id": "RDWO0RQWQ5cA",
        "outputId": "4e16fbbd-2002-4d35-de36-0d1a4b4c0dd5"
      },
      "outputs": [
        {
          "data": {
            "text/plain": [
              "array([[<AxesSubplot:title={'center':'CAPACITY_IN_POUNDS'}>,\n",
              "        <AxesSubplot:title={'center':'MANUFACTURE_YEAR'}>]], dtype=object)"
            ]
          },
          "execution_count": 11,
          "metadata": {},
          "output_type": "execute_result"
        },
        {
          "data": {
            "image/png": "[encoded data removed]",
            "text/plain": [
              "<Figure size 1080x360 with 2 Axes>"
            ]
          },
          "metadata": {
            "needs_background": "light"
          },
          "output_type": "display_data"
        }
      ],
      "source": [
        "carrier_pd = BTS_fleet_pd[BTS_fleet_pd.CARRIER == 'AA']\n",
        "carrier_pd.hist(column = ['CAPACITY_IN_POUNDS', 'MANUFACTURE_YEAR'], bins = 100, figsize = [15,5])\n"
      ]
    },
    {
      "cell_type": "markdown",
      "metadata": {
        "id": "7lCI1T_xQ5cB"
      },
      "source": [
        "#### Generating Fleet Statistics Dashboards"
      ]
    },
    {
      "cell_type": "markdown",
      "metadata": {
        "id": "w28N5Sm9Q5cB"
      },
      "source": [
        "Using the Dashboard Generator below a snapshop of fleet model, age and capacity distribution can be seen for each airline. A handy reminder of the carrier code for each airline has also been added."
      ]
    },
    {
      "cell_type": "code",
      "execution_count": null,
      "metadata": {
        "id": "SQchUxP9Q5cB",
        "outputId": "717e08ce-28ee-41d4-a1f8-185e1b490670",
        "scrolled": false
      },
      "outputs": [
        {
          "data": {
            "text/html": [
              "<div>\n",
              "<style scoped>\n",
              "    .dataframe tbody tr th:only-of-type {\n",
              "        vertical-align: middle;\n",
              "    }\n",
              "\n",
              "    .dataframe tbody tr th {\n",
              "        vertical-align: top;\n",
              "    }\n",
              "\n",
              "    .dataframe thead th {\n",
              "        text-align: right;\n",
              "    }\n",
              "</style>\n",
              "<table border=\"1\" class=\"dataframe\">\n",
              "  <thead>\n",
              "    <tr style=\"text-align: right;\">\n",
              "      <th></th>\n",
              "      <th>CARRIER</th>\n",
              "      <th>CARRIER_NAME</th>\n",
              "    </tr>\n",
              "  </thead>\n",
              "  <tbody>\n",
              "    <tr>\n",
              "      <th>0</th>\n",
              "      <td>AA</td>\n",
              "      <td>American Airlines Inc.</td>\n",
              "    </tr>\n",
              "    <tr>\n",
              "      <th>92</th>\n",
              "      <td>AS</td>\n",
              "      <td>Alaska Airlines Inc.</td>\n",
              "    </tr>\n",
              "    <tr>\n",
              "      <th>134</th>\n",
              "      <td>B6</td>\n",
              "      <td>JetBlue Airways</td>\n",
              "    </tr>\n",
              "    <tr>\n",
              "      <th>166</th>\n",
              "      <td>DL</td>\n",
              "      <td>Delta Air Lines Inc.</td>\n",
              "    </tr>\n",
              "    <tr>\n",
              "      <th>280</th>\n",
              "      <td>F9</td>\n",
              "      <td>Frontier Airlines Inc.</td>\n",
              "    </tr>\n",
              "    <tr>\n",
              "      <th>300</th>\n",
              "      <td>HA</td>\n",
              "      <td>Hawaiian Airlines Inc.</td>\n",
              "    </tr>\n",
              "    <tr>\n",
              "      <th>316</th>\n",
              "      <td>NK</td>\n",
              "      <td>Spirit Air Lines</td>\n",
              "    </tr>\n",
              "    <tr>\n",
              "      <th>336</th>\n",
              "      <td>OO</td>\n",
              "      <td>SkyWest Airlines Inc.</td>\n",
              "    </tr>\n",
              "    <tr>\n",
              "      <th>371</th>\n",
              "      <td>UA</td>\n",
              "      <td>United Air Lines Inc.</td>\n",
              "    </tr>\n",
              "    <tr>\n",
              "      <th>475</th>\n",
              "      <td>WN</td>\n",
              "      <td>Southwest Airlines Co.</td>\n",
              "    </tr>\n",
              "  </tbody>\n",
              "</table>\n",
              "</div>"
            ],
            "text/plain": [
              "    CARRIER            CARRIER_NAME\n",
              "0        AA  American Airlines Inc.\n",
              "92       AS    Alaska Airlines Inc.\n",
              "134      B6         JetBlue Airways\n",
              "166      DL    Delta Air Lines Inc.\n",
              "280      F9  Frontier Airlines Inc.\n",
              "300      HA  Hawaiian Airlines Inc.\n",
              "316      NK        Spirit Air Lines\n",
              "336      OO   SkyWest Airlines Inc.\n",
              "371      UA   United Air Lines Inc.\n",
              "475      WN  Southwest Airlines Co."
            ]
          },
          "execution_count": 12,
          "metadata": {},
          "output_type": "execute_result"
        }
      ],
      "source": [
        "BTS_fleetsize_pd.drop_duplicates(subset=['CARRIER'])[[\"CARRIER\", \"CARRIER_NAME\"]]"
      ]
    },
    {
      "cell_type": "markdown",
      "metadata": {
        "id": "ix0K0piJQ5cB"
      },
      "source": [
        "##### Dashboard Generator"
      ]
    },
    {
      "cell_type": "code",
      "execution_count": null,
      "metadata": {
        "id": "qEKjB0huQ5cC"
      },
      "outputs": [],
      "source": [
        "##Uncomment to run dashboard generator\n",
        "# carr_code = input('which airline would you like to view the fleet model distribution chart for? (Please input a carrier code) ')\n",
        "# def dashboard (carr):  \n",
        "#     fleet_pie(carr)\n",
        "#     carrier_pd = BTS_fleet_pd[BTS_fleet_pd.CARRIER == carr]\n",
        "#     carrier_pd.hist(column = ['CAPACITY_IN_POUNDS', 'MANUFACTURE_YEAR'], bins = 100, figsize = [15,5])\n",
        "# dashboard(carr_code)"
      ]
    },
    {
      "cell_type": "markdown",
      "metadata": {
        "id": "W5Ln2OckQ5cC"
      },
      "source": [
        "### Fleet: Analysis"
      ]
    },
    {
      "cell_type": "markdown",
      "metadata": {
        "id": "ixl3HBuNQ5cC"
      },
      "source": [
        "#### Understanding Emissions Ranking"
      ]
    },
    {
      "cell_type": "markdown",
      "metadata": {
        "id": "isuvtr7QQ5cD"
      },
      "source": [
        "The fleet distribution needs to be understood with respect to the emissions of each airline. By ranking the airlines based on their emissions in the most recent year within our scope (2019) we can see trends of the highest emitters versus the lowest emitters. \n",
        "\n",
        "To allow for this analysis, the previously generated Emissions csv needs to be transformed to sum up all of the emmissions in 2019 and ranked. Later in the analysis the dashboards for the highest and lowest emittors will be grouped and analysed.\n",
        "\n",
        "One variable which has a high chance of being confounding is the fleet size. It is likely that airlines with more aircraft will produce higher emissions. Whilst this would be a valid conclusion, the effect may mask more nuanced deductions such as the impact of model and brand type on emmissions. For this reason the emissions data will be joined to the total fleet data to test this hypothesis."
      ]
    },
    {
      "cell_type": "code",
      "execution_count": null,
      "metadata": {
        "id": "A1AaWAcRQ5cD",
        "outputId": "7c749cb0-003c-453d-bd50-10dc2691a014"
      },
      "outputs": [
        {
          "data": {
            "text/html": [
              "<div>\n",
              "<style scoped>\n",
              "    .dataframe tbody tr th:only-of-type {\n",
              "        vertical-align: middle;\n",
              "    }\n",
              "\n",
              "    .dataframe tbody tr th {\n",
              "        vertical-align: top;\n",
              "    }\n",
              "\n",
              "    .dataframe thead th {\n",
              "        text-align: right;\n",
              "    }\n",
              "</style>\n",
              "<table border=\"1\" class=\"dataframe\">\n",
              "  <thead>\n",
              "    <tr style=\"text-align: right;\">\n",
              "      <th></th>\n",
              "      <th>IATA Code</th>\n",
              "      <th>Airline Name</th>\n",
              "      <th>CO2 Emissions (thousands of kg)</th>\n",
              "      <th>NO. AIRCRAFTS</th>\n",
              "      <th>Emissions per Aircraft (Thousands of kg)</th>\n",
              "    </tr>\n",
              "  </thead>\n",
              "  <tbody>\n",
              "    <tr>\n",
              "      <th>0</th>\n",
              "      <td>OO</td>\n",
              "      <td>SkyWest Airlines</td>\n",
              "      <td>9.944033e+05</td>\n",
              "      <td>561</td>\n",
              "      <td>1772.554861</td>\n",
              "    </tr>\n",
              "    <tr>\n",
              "      <th>1</th>\n",
              "      <td>HA</td>\n",
              "      <td>Hawaiian Airlines</td>\n",
              "      <td>2.572453e+06</td>\n",
              "      <td>59</td>\n",
              "      <td>43600.893712</td>\n",
              "    </tr>\n",
              "    <tr>\n",
              "      <th>2</th>\n",
              "      <td>F9</td>\n",
              "      <td>Frontier Airlines</td>\n",
              "      <td>2.753693e+06</td>\n",
              "      <td>104</td>\n",
              "      <td>26477.819611</td>\n",
              "    </tr>\n",
              "    <tr>\n",
              "      <th>3</th>\n",
              "      <td>NK</td>\n",
              "      <td>Spirit Air Lines</td>\n",
              "      <td>4.494868e+06</td>\n",
              "      <td>155</td>\n",
              "      <td>28999.146716</td>\n",
              "    </tr>\n",
              "    <tr>\n",
              "      <th>4</th>\n",
              "      <td>AS</td>\n",
              "      <td>Alaska Airlines</td>\n",
              "      <td>6.967189e+06</td>\n",
              "      <td>197</td>\n",
              "      <td>35366.442236</td>\n",
              "    </tr>\n",
              "    <tr>\n",
              "      <th>5</th>\n",
              "      <td>B6</td>\n",
              "      <td>JetBlue Airways</td>\n",
              "      <td>8.451378e+06</td>\n",
              "      <td>267</td>\n",
              "      <td>31653.100972</td>\n",
              "    </tr>\n",
              "    <tr>\n",
              "      <th>6</th>\n",
              "      <td>WN</td>\n",
              "      <td>Southwest Airlines</td>\n",
              "      <td>1.981933e+07</td>\n",
              "      <td>718</td>\n",
              "      <td>27603.518184</td>\n",
              "    </tr>\n",
              "    <tr>\n",
              "      <th>7</th>\n",
              "      <td>UA</td>\n",
              "      <td>United Air Lines</td>\n",
              "      <td>3.386846e+07</td>\n",
              "      <td>782</td>\n",
              "      <td>43310.048362</td>\n",
              "    </tr>\n",
              "    <tr>\n",
              "      <th>8</th>\n",
              "      <td>DL</td>\n",
              "      <td>Delta Air Lines</td>\n",
              "      <td>3.450202e+07</td>\n",
              "      <td>750</td>\n",
              "      <td>46002.695639</td>\n",
              "    </tr>\n",
              "    <tr>\n",
              "      <th>9</th>\n",
              "      <td>AA</td>\n",
              "      <td>American Airlines</td>\n",
              "      <td>3.493181e+07</td>\n",
              "      <td>877</td>\n",
              "      <td>39831.026868</td>\n",
              "    </tr>\n",
              "  </tbody>\n",
              "</table>\n",
              "</div>"
            ],
            "text/plain": [
              "  IATA Code        Airline Name  CO2 Emissions (thousands of kg)  \\\n",
              "0        OO    SkyWest Airlines                     9.944033e+05   \n",
              "1        HA   Hawaiian Airlines                     2.572453e+06   \n",
              "2        F9   Frontier Airlines                     2.753693e+06   \n",
              "3        NK    Spirit Air Lines                     4.494868e+06   \n",
              "4        AS     Alaska Airlines                     6.967189e+06   \n",
              "5        B6     JetBlue Airways                     8.451378e+06   \n",
              "6        WN  Southwest Airlines                     1.981933e+07   \n",
              "7        UA    United Air Lines                     3.386846e+07   \n",
              "8        DL     Delta Air Lines                     3.450202e+07   \n",
              "9        AA   American Airlines                     3.493181e+07   \n",
              "\n",
              "   NO. AIRCRAFTS  Emissions per Aircraft (Thousands of kg)  \n",
              "0            561                               1772.554861  \n",
              "1             59                              43600.893712  \n",
              "2            104                              26477.819611  \n",
              "3            155                              28999.146716  \n",
              "4            197                              35366.442236  \n",
              "5            267                              31653.100972  \n",
              "6            718                              27603.518184  \n",
              "7            782                              43310.048362  \n",
              "8            750                              46002.695639  \n",
              "9            877                              39831.026868  "
            ]
          },
          "execution_count": 21,
          "metadata": {},
          "output_type": "execute_result"
        }
      ],
      "source": [
        "req_col = ['IATA Code', 'Airline Name', 'Year', 'CO2 Emissions (thousands of kg)' ]\n",
        "emissions_pd = pd.read_csv('Fuel-DataEmissions-Table_v2.csv', usecols= req_col)\n",
        "\n",
        "rec_emm = emissions_pd[emissions_pd.Year == 2019]\n",
        "ranking_pd = rec_emm.groupby(['IATA Code','Airline Name','Year'],as_index = False)[[\"CO2 Emissions (thousands of kg)\"]].sum()\n",
        "\n",
        "noair_pd = BTS_fleetsize_pd.groupby(['CARRIER','CARRIER_NAME'],as_index = False)[[\"NO. AIRCRAFTS\"]].sum()\n",
        "noair_pd.sort_values(\"NO. AIRCRAFTS\", ascending = True, inplace = True)\n",
        "\n",
        "rank_fleet_pd = pd.merge(\n",
        "    ranking_pd,\n",
        "    noair_pd,\n",
        "    how=\"left\",\n",
        "    on=None,\n",
        "    left_on= 'IATA Code',\n",
        "    right_on= 'CARRIER',\n",
        "    left_index=False,\n",
        "    right_index=False,\n",
        "    sort=True,\n",
        "    suffixes=(\"_x\", \"_y\"),\n",
        "    copy=False,\n",
        "    indicator=False,\n",
        "    validate=None,\n",
        ")\n",
        "rank_fleet_pd.drop(labels = ['Year', 'CARRIER', 'CARRIER_NAME'], axis=1, inplace =True)\n",
        "rank_fleet_pd['Emissions per Aircraft (Thousands of kg)'] = rank_fleet_pd.apply(lambda row: row['CO2 Emissions (thousands of kg)'] / row['NO. AIRCRAFTS'],axis=1)\n",
        "rank_fleet_pd = rank_fleet_pd.sort_values(\"CO2 Emissions (thousands of kg)\", ignore_index = True)\n",
        "rank_fleet_pd"
      ]
    },
    {
      "cell_type": "markdown",
      "metadata": {
        "id": "kc1664axQ5cE"
      },
      "source": [
        "The scatter plot generated below tests the hypothesis that airlines with larger fleets produce more CO2 emissions. The chart shows a strong positive correlation suggesting that the hypothesis is correct. However, the graph also shows two outliers: Skywest Airlines and Southwest Airlines. These anomalies suggest that whilst the number of aircrafts is very indicative of the total emissions, there are further variables contributing to lower emissions."
      ]
    },
    {
      "cell_type": "code",
      "execution_count": null,
      "metadata": {
        "id": "pmfLtn2BQ5cF",
        "outputId": "1be28ad2-2eb3-417a-a3c2-56899f569de3"
      },
      "outputs": [
        {
          "data": {
            "image/png": "[encoded data removed]",
            "text/plain": [
              "<Figure size 432x288 with 1 Axes>"
            ]
          },
          "metadata": {
            "needs_background": "light"
          },
          "output_type": "display_data"
        }
      ],
      "source": [
        " emmissions_fleetsize= rank_fleet_pd.plot.scatter(x='NO. AIRCRAFTS',\n",
        "                      y='CO2 Emissions (thousands of kg)',\n",
        "                      c='r')"
      ]
    },
    {
      "cell_type": "markdown",
      "metadata": {
        "id": "wS3oFfoxQ5cF"
      },
      "source": [
        "To account for the impact of the number of aircrafts on emmissions, a second ranking based on the average emissions per aircraft has also been carried out."
      ]
    },
    {
      "cell_type": "code",
      "execution_count": null,
      "metadata": {
        "id": "LVojv_xIQ5cF",
        "outputId": "b54354ec-3c73-4bc1-9240-3c923276b94f"
      },
      "outputs": [
        {
          "data": {
            "text/html": [
              "<div>\n",
              "<style scoped>\n",
              "    .dataframe tbody tr th:only-of-type {\n",
              "        vertical-align: middle;\n",
              "    }\n",
              "\n",
              "    .dataframe tbody tr th {\n",
              "        vertical-align: top;\n",
              "    }\n",
              "\n",
              "    .dataframe thead th {\n",
              "        text-align: right;\n",
              "    }\n",
              "</style>\n",
              "<table border=\"1\" class=\"dataframe\">\n",
              "  <thead>\n",
              "    <tr style=\"text-align: right;\">\n",
              "      <th></th>\n",
              "      <th>IATA Code</th>\n",
              "      <th>Airline Name</th>\n",
              "      <th>CO2 Emissions (thousands of kg)</th>\n",
              "      <th>NO. AIRCRAFTS</th>\n",
              "      <th>Emissions per Aircraft (Thousands of kg)</th>\n",
              "    </tr>\n",
              "  </thead>\n",
              "  <tbody>\n",
              "    <tr>\n",
              "      <th>0</th>\n",
              "      <td>OO</td>\n",
              "      <td>SkyWest Airlines</td>\n",
              "      <td>9.944033e+05</td>\n",
              "      <td>561</td>\n",
              "      <td>1772.554861</td>\n",
              "    </tr>\n",
              "    <tr>\n",
              "      <th>1</th>\n",
              "      <td>HA</td>\n",
              "      <td>Hawaiian Airlines</td>\n",
              "      <td>2.572453e+06</td>\n",
              "      <td>59</td>\n",
              "      <td>43600.893712</td>\n",
              "    </tr>\n",
              "    <tr>\n",
              "      <th>2</th>\n",
              "      <td>F9</td>\n",
              "      <td>Frontier Airlines</td>\n",
              "      <td>2.753693e+06</td>\n",
              "      <td>104</td>\n",
              "      <td>26477.819611</td>\n",
              "    </tr>\n",
              "    <tr>\n",
              "      <th>3</th>\n",
              "      <td>NK</td>\n",
              "      <td>Spirit Air Lines</td>\n",
              "      <td>4.494868e+06</td>\n",
              "      <td>155</td>\n",
              "      <td>28999.146716</td>\n",
              "    </tr>\n",
              "    <tr>\n",
              "      <th>4</th>\n",
              "      <td>AS</td>\n",
              "      <td>Alaska Airlines</td>\n",
              "      <td>6.967189e+06</td>\n",
              "      <td>197</td>\n",
              "      <td>35366.442236</td>\n",
              "    </tr>\n",
              "    <tr>\n",
              "      <th>5</th>\n",
              "      <td>B6</td>\n",
              "      <td>JetBlue Airways</td>\n",
              "      <td>8.451378e+06</td>\n",
              "      <td>267</td>\n",
              "      <td>31653.100972</td>\n",
              "    </tr>\n",
              "    <tr>\n",
              "      <th>6</th>\n",
              "      <td>WN</td>\n",
              "      <td>Southwest Airlines</td>\n",
              "      <td>1.981933e+07</td>\n",
              "      <td>718</td>\n",
              "      <td>27603.518184</td>\n",
              "    </tr>\n",
              "    <tr>\n",
              "      <th>7</th>\n",
              "      <td>UA</td>\n",
              "      <td>United Air Lines</td>\n",
              "      <td>3.386846e+07</td>\n",
              "      <td>782</td>\n",
              "      <td>43310.048362</td>\n",
              "    </tr>\n",
              "    <tr>\n",
              "      <th>8</th>\n",
              "      <td>DL</td>\n",
              "      <td>Delta Air Lines</td>\n",
              "      <td>3.450202e+07</td>\n",
              "      <td>750</td>\n",
              "      <td>46002.695639</td>\n",
              "    </tr>\n",
              "    <tr>\n",
              "      <th>9</th>\n",
              "      <td>AA</td>\n",
              "      <td>American Airlines</td>\n",
              "      <td>3.493181e+07</td>\n",
              "      <td>877</td>\n",
              "      <td>39831.026868</td>\n",
              "    </tr>\n",
              "  </tbody>\n",
              "</table>\n",
              "</div>"
            ],
            "text/plain": [
              "  IATA Code        Airline Name  CO2 Emissions (thousands of kg)  \\\n",
              "0        OO    SkyWest Airlines                     9.944033e+05   \n",
              "1        HA   Hawaiian Airlines                     2.572453e+06   \n",
              "2        F9   Frontier Airlines                     2.753693e+06   \n",
              "3        NK    Spirit Air Lines                     4.494868e+06   \n",
              "4        AS     Alaska Airlines                     6.967189e+06   \n",
              "5        B6     JetBlue Airways                     8.451378e+06   \n",
              "6        WN  Southwest Airlines                     1.981933e+07   \n",
              "7        UA    United Air Lines                     3.386846e+07   \n",
              "8        DL     Delta Air Lines                     3.450202e+07   \n",
              "9        AA   American Airlines                     3.493181e+07   \n",
              "\n",
              "   NO. AIRCRAFTS  Emissions per Aircraft (Thousands of kg)  \n",
              "0            561                               1772.554861  \n",
              "1             59                              43600.893712  \n",
              "2            104                              26477.819611  \n",
              "3            155                              28999.146716  \n",
              "4            197                              35366.442236  \n",
              "5            267                              31653.100972  \n",
              "6            718                              27603.518184  \n",
              "7            782                              43310.048362  \n",
              "8            750                              46002.695639  \n",
              "9            877                              39831.026868  "
            ]
          },
          "execution_count": 18,
          "metadata": {},
          "output_type": "execute_result"
        }
      ],
      "source": [
        "rank_perfleet_pd = rank_fleet_pd.sort_values(\"CO2 Emissions (thousands of kg)\", ignore_index = True)\n",
        "rank_perfleet_pd"
      ]
    },
    {
      "cell_type": "markdown",
      "metadata": {
        "id": "AvPyNrYTQ5cG"
      },
      "source": [
        "#### Comparing the Lowest Emitters with the Highest"
      ]
    },
    {
      "cell_type": "markdown",
      "metadata": {
        "id": "5KOt0oZAQ5cG"
      },
      "source": [
        "As previously discussed, the initial analysis has shown that a key factor in the total emissions is the number of aircrafts operating for the airline. Most of the airlines with the lowest emmissions had fewer than 200 operating aircraft, whereas many of the high emitters had over 700. This is unsurprising as it is to be expected that bigger airlines would have larger fleets, carry out more journeys and thus produce more CO2 emmissions. An exception to this trend however is SkyWest Airlines, which had the lowest emissions but a relatively high fleet (561 total aircraft).\n",
        "\n",
        "Another trend in fleet model distribution was that the high emitters tended to have a larger percentage of Boeing Aircraft. There is a high change that this trend is mainly correlational rather than causal. Airbus is a historically european manufacturer and so it is likely that larger american airlines prefer the American company Boeing. That said with Boeing often adopting Rolls-Royce Engines whilst Airbus often preferentially selects General Electric engines, there is a chance that the emissions related to these respective engine types could be playing a role. \n",
        "\n",
        "When revieing the manufacture year histogram there was a slight trend in the amount of aircraft purchased in the early 2000 verses closer to 2020. Many of the low emitters had a noticable peak (or secondary peak) around 2018, and the data tended to be left skewed. Many of the higher emitting airlines showed more purchases in the early 2000s. This suggests that if more older aircraft are operating the emissions are increased. This could be because newer fleets are taking advantage of the efficiency savings and reduced emissions from newer engine models.\n",
        "\n",
        "It should be noted that within this section the coded sections have been commented out to make the navigation of this Jupyter Notebook easier. Uncomment to view the graphs."
      ]
    },
    {
      "cell_type": "code",
      "execution_count": null,
      "metadata": {
        "id": "WEF6OX1wQ5cG",
        "scrolled": false
      },
      "outputs": [],
      "source": [
        "# #Uncomment to view low emitters\n",
        "# ranked_emitters = []\n",
        "# for airline in rank_fleet_pd['IATA Code']:\n",
        "#         ranked_emitters.append(airline)\n",
        "# low_emitters = ranked_emitters[0:5]\n",
        "    \n",
        "# for code in low_emitters:\n",
        "#     dashboard(code)\n",
        "    "
      ]
    },
    {
      "cell_type": "code",
      "execution_count": null,
      "metadata": {
        "id": "LpzmbEyqQ5cH",
        "scrolled": false
      },
      "outputs": [],
      "source": [
        "# # Uncomment to view high emitters\n",
        "# high_emitters = ranked_emitters[5:11]\n",
        "    \n",
        "# for code in high_emitters:\n",
        "#     dashboard(code)"
      ]
    },
    {
      "cell_type": "markdown",
      "metadata": {
        "id": "lnYiugosQ5cH"
      },
      "source": [
        "#### Analysing Airlines with Low Emissions per Aircraft"
      ]
    },
    {
      "cell_type": "markdown",
      "metadata": {
        "id": "SXrCtmyAQ5cH"
      },
      "source": [
        "One aim of researching the fleet distribution is to identify the tenants of a sustainable airline and to see which informed decisions can lead to an airline being more environementally friendly despite its size. For this reason the top 5 airlines with the lowest emissions per aircraft have also been analysed.\n",
        "\n",
        "One notable feature of the low emitters per aircraft set is that the fleet distribution is relatively simplistic. Few models can be seen in their fleet portfolio or in the case of southwest, a single manufacturer is used. This could suggest that lower emitters find a well performing and efficient engine and stick with it. Some of the favourite models within this set are the A320 and the B737.\n",
        "\n",
        "One outlier in this analysis has been SkyWest Airlines which has a fleet portfolio which contrasts with the other airlines significantly. It features solely Bombardier and Embraer manufactured aircrafts, has the lowest emissions of all the airlines and still has a relatively large fleet. Upon review, SkyWest is a regional airline that mainly carries out flights within North america. It is likely that these shorter flights rather than the nature of the fleet itself has the larger impact on its emissions.\n",
        "\n",
        "It should be noted that within this section the coded sections have been commented out to make the navigation of this Jupyter Notebook easier. Uncomment to view the graphs."
      ]
    },
    {
      "cell_type": "code",
      "execution_count": null,
      "metadata": {
        "id": "4OKYqKMGQ5cH",
        "scrolled": false
      },
      "outputs": [],
      "source": [
        "## Uncomment to view ranked per aircraft low emitters\n",
        "# ranked_per_emitters = []\n",
        "# for airline in rank_perfleet_pd['IATA Code']:\n",
        "#         ranked_per_emitters.append(airline)\n",
        "# low_per_emitters = ranked_per_emitters[0:5]\n",
        "    \n",
        "# for code in low_per_emitters:\n",
        "#     dashboard(code)"
      ]
    },
    {
      "cell_type": "markdown",
      "metadata": {
        "id": "30YpGDWpQ5cI"
      },
      "source": [
        "### Fleet: Conclusions"
      ]
    },
    {
      "cell_type": "markdown",
      "metadata": {
        "id": "6XZGd70wQ5cI"
      },
      "source": [
        "The conclusions for this section of analysis have been summarised below:\n",
        "#### Fleet: Methodology\n",
        "* Pie Charts are a useful visualisation method to gain insight into categorical data. By nesting the data a higher density of information can be interpreted simply.\n",
        "* When more categories exist in the data of the data is time dependant (such as analysis of many years) histograms are useful as they allow you to analyse skews in the data.\n",
        "* Data Cleansing not only ensures the quality and validity of the output, it also simplifies the coding experience and prevents human error throughout the process.\n",
        "\n",
        "#### Fleet and Emissions\n",
        "* The larger the fleet the greater the emissions that will be produced\n",
        "* Older fleets tend to lead to higher emissions\n",
        "* Simple fleets with fewer models appear to produce lower emissions\n",
        "* Boeing manufactured aircraft may lead to higher emissions, but this required further investigation on individual aircraft to substantiate."
      ]
    },
    {
      "cell_type": "markdown",
      "metadata": {
        "id": "PCVDyMX6Q5cI"
      },
      "source": [
        "## Revenue:"
      ]
    },
    {
      "cell_type": "markdown",
      "metadata": {
        "id": "VrJ6SwxiWiDu"
      },
      "source": [
        "This section focuses on analysis of finanacial data related to revenue for US Airlines. Analysis was conducted to find the relationship between emissions and revenue for the airlines."
      ]
    },
    {
      "cell_type": "markdown",
      "metadata": {
        "id": "d3dca2f3"
      },
      "source": [
        "### Revenue: Cleaning the Dataset"
      ]
    },
    {
      "cell_type": "markdown",
      "metadata": {
        "id": "677e0ae3"
      },
      "source": [
        "Revenue for Frontier Airline and Spirit Airlines has not been included because this data was not available."
      ]
    },
    {
      "cell_type": "markdown",
      "metadata": {
        "id": "d38ba987"
      },
      "source": [
        "First the csv file containing revenue and emissions for each airlines was imported using pandas"
      ]
    },
    {
      "cell_type": "code",
      "execution_count": null,
      "metadata": {
        "id": "22490311"
      },
      "outputs": [],
      "source": [
        "import pandas as pd\n",
        "rev_df = pd.read_csv(\"Revenue_emissions1.csv\")\n",
        "rev_df"
      ]
    },
    {
      "cell_type": "markdown",
      "metadata": {
        "id": "63b8146e"
      },
      "source": [
        "# Data Visualisation and Analysis"
      ]
    },
    {
      "cell_type": "markdown",
      "metadata": {
        "id": "f324188c"
      },
      "source": [
        "Data Analysis was conducted to find correalations of revenue and emissions for years in the time frame from 2010 -2019 for the selected US Airlines"
      ]
    },
    {
      "cell_type": "markdown",
      "metadata": {
        "id": "df8fef4c"
      },
      "source": [
        "Then a scatter plot was used to visualise  a general relation of revenue to year for US Airlines. This plot shows a general increase in revenue for each year from 2010 to 2019."
      ]
    },
    {
      "cell_type": "code",
      "execution_count": null,
      "metadata": {
        "id": "ac15a0d2"
      },
      "outputs": [],
      "source": [
        "rev_df.plot.scatter(x='Year', y='Revenue (billion of dollars $)', title='Relation of revenue to year for Alaska Airlines')\n"
      ]
    },
    {
      "cell_type": "markdown",
      "metadata": {
        "id": "f4b6b467"
      },
      "source": [
        "In the next section two plots are being plotted to illustrate relationship between the emsssions and revenue data for the airlines for the given time period(excluding frontier airlines because of unavailabilty of data). The Quarterly Data will be summed up to provide data yearly."
      ]
    },
    {
      "cell_type": "code",
      "execution_count": null,
      "metadata": {
        "id": "0f4903e9",
        "scrolled": true
      },
      "outputs": [],
      "source": [
        "# Generating a graph of yearly revenue by each airline over the 10 year period\n",
        "\n",
        "# Group the table data by the year column, since we are looking for a yearly breakdown, then by the airlines, for this\n",
        "\n",
        "rev_year_grouped = rev_df.groupby(['Year','Airline Name'])['Revenue (billion of dollars $)'].sum()\n",
        "\n",
        "# Convert the data into a dataframe and reset the index columns, which assigns the emissions sum as a proper column.\n",
        "rev_year_grouped = rev_year_grouped.to_frame().reset_index()\n",
        "\n",
        "# Check that the correct data has been aggregated\n",
        "\n",
        "print(rev_year_grouped)\n",
        "\n",
        "# We can do the same for emisssions\n",
        "\n",
        "emissions_year_grouped = rev_df.groupby(['Year','Airline Name'])['CO2 Emissions (thousands of kg)'].sum()\n",
        "emissions_year_grouped = emissions_year_grouped.to_frame().reset_index()\n",
        "\n",
        "print(emissions_year_grouped)"
      ]
    },
    {
      "cell_type": "markdown",
      "metadata": {
        "id": "8b4f0bce"
      },
      "source": [
        "Now since we have the data in the order we need them. Two plots can be constructed for emissions data and revenue data for each year for the selected airlines."
      ]
    },
    {
      "cell_type": "code",
      "execution_count": null,
      "metadata": {
        "id": "91ce06cb"
      },
      "outputs": [],
      "source": [
        "import matplotlib.pyplot as plt\n",
        "\n",
        "# Plotting the transformed data for revenue data\n",
        "# Frontier airlines has not been considered because of missing data\n",
        "plt.figure(1)\n",
        "x = rev_year_grouped['Year'].unique().tolist()\n",
        "y = rev_year_grouped['Revenue (billion of dollars $)'].tolist()\n",
        "labels = ['Alaska Airlines Inc.', 'American Airlines Inc.', 'Delta Air Lines Inc.', \n",
        "          'Hawaiian Airlines Inc.', 'JetBlue Airways', 'SkyWest Airlines Inc.', 'Southwest Airlines Co.',\n",
        "          'United Air Lines Inc.']\n",
        "\n",
        "plt.figure(figsize=(13,10))\n",
        "\n",
        "plt.plot(x, y[0:79:8], label = labels[0])\n",
        "plt.plot(x, y[1:79:8], label = labels[1])\n",
        "plt.plot(x, y[2:79:8], label = labels[2])\n",
        "plt.plot(x, y[3:79:8], label = labels[3])\n",
        "plt.plot(x, y[4:79:8], label = labels[4])\n",
        "plt.plot(x, y[5:79:8], label = labels[5])\n",
        "plt.plot(x, y[6:79:8], label = labels[6])\n",
        "plt.plot(x, y[7:80:8], label = labels[7])\n",
        "\n",
        "\n",
        "\n",
        "plt.legend(loc='center right', bbox_to_anchor=(1.3,0.8))\n",
        "plt.xticks(x)\n",
        "plt.grid(linewidth = 1, linestyle = 'dotted')\n",
        "\n",
        "plt.title('Revenue For Each Airline (2010 - 2019)', size = 15)\n",
        "plt.xlabel('Year', size = 12)\n",
        "plt.ylabel('Revenue (billion of dollars $)', size = 12)\n",
        "\n",
        "# Plotting the transformed data for emmisions data\n",
        "# Here Frontier airlines has not been considered \n",
        "plt.figure(2)\n",
        "x = emissions_year_grouped['Year'].unique().tolist()\n",
        "y = emissions_year_grouped['CO2 Emissions (thousands of kg)'].tolist()\n",
        "labels = ['Alaska Airlines Inc.', 'American Airlines Inc.', 'Delta Air Lines Inc.', \n",
        "          'Hawaiian Airlines Inc.', 'JetBlue Airways', 'SkyWest Airlines Inc.', 'Southwest Airlines Co.',\n",
        "          'United Air Lines Inc.']\n",
        "\n",
        "plt.figure(figsize=(13,10))\n",
        "\n",
        "plt.plot(x, y[0:79:8], label = labels[0])\n",
        "plt.plot(x, y[1:79:8], label = labels[1])\n",
        "plt.plot(x, y[2:79:8], label = labels[2])\n",
        "plt.plot(x, y[3:79:8], label = labels[3])\n",
        "plt.plot(x, y[4:79:8], label = labels[4])\n",
        "plt.plot(x, y[5:79:8], label = labels[5])\n",
        "plt.plot(x, y[6:79:8], label = labels[6])\n",
        "plt.plot(x, y[7:80:8], label = labels[7])\n",
        "\n",
        "\n",
        "\n",
        "plt.legend(loc='center right', bbox_to_anchor=(1.3,0.8))\n",
        "plt.xticks(x)\n",
        "plt.grid(linewidth = 1, linestyle = 'dotted')\n",
        "\n",
        "plt.title('Emissions For Each Airline (2010 - 2019)', size = 15)\n",
        "plt.xlabel('Year', size = 12)\n",
        "plt.ylabel('CO2 Emissions (thousands of kg)', size = 12)"
      ]
    },
    {
      "cell_type": "markdown",
      "metadata": {
        "id": "7ce046a9"
      },
      "source": [
        "#### Interpretation\n",
        "\n",
        "The yearly emissions from fuel combustion show that there is an increase in total emissions of Carbon dioxide emissions from 2010- 2019 for all airlines. A significant increase in emissions is seen for American Airlines Inc between a 2014 and 2016 and also United Airlines between 2011 and 2012.\n",
        "\n",
        "It can be concluded from this representation that higher the revenue, the higher the CO2 emissions as both the revenue and emissions data show a general increase from 2010 to 2019."
      ]
    },
    {
      "cell_type": "markdown",
      "metadata": {
        "id": "3a96779c"
      },
      "source": [
        "### Individual Airline\n",
        "\n",
        "We can also aggregate the data to have only data for a single airline and look at trends in revenue in the time frame between 2010 and 2019. The following analysis has been done to show the trend in revenue for Alaska airlines from 2010 to 2019."
      ]
    },
    {
      "cell_type": "code",
      "execution_count": null,
      "metadata": {
        "id": "e50b0b61"
      },
      "outputs": [],
      "source": [
        "revenues_alaska = rev_df[rev_df['Airline Name'] == 'Alaska Airlines']\n",
        "revenues_alaska\n"
      ]
    },
    {
      "cell_type": "code",
      "execution_count": null,
      "metadata": {
        "id": "b5124014"
      },
      "outputs": [],
      "source": [
        "revenues_alaska.plot.scatter(x='Year', y='Revenue (billion of dollars $)', title='Relation of revenue to year for Alaska Airlines')\n"
      ]
    },
    {
      "cell_type": "markdown",
      "metadata": {
        "id": "99a988ec"
      },
      "source": [
        "#### Interpretation\n",
        "\n",
        "There is a general increase in revenue for Alaska Airlines from 2010 - 2019"
      ]
    },
    {
      "cell_type": "markdown",
      "metadata": {
        "id": "YZAZ1R_n7Nz6"
      },
      "source": [
        "### Correlation Matrix"
      ]
    },
    {
      "cell_type": "code",
      "execution_count": null,
      "metadata": {
        "id": "27aw-0zb7Nz6",
        "outputId": "ab417433-8bfd-483d-cec2-5daf79ab5c94"
      },
      "outputs": [
        {
          "ename": "NameError",
          "evalue": "name 'rev_df' is not defined",
          "output_type": "error",
          "traceback": [
            "\u001b[1;31m---------------------------------------------------------------------------\u001b[0m",
            "\u001b[1;31mNameError\u001b[0m                                 Traceback (most recent call last)",
            "\u001b[1;32m<ipython-input-22-c3559682fc1f>\u001b[0m in \u001b[0;36m<module>\u001b[1;34m\u001b[0m\n\u001b[1;32m----> 1\u001b[1;33m \u001b[0mrev_df_new\u001b[0m \u001b[1;33m=\u001b[0m \u001b[0mrev_df\u001b[0m\u001b[1;33m.\u001b[0m\u001b[0mdrop\u001b[0m\u001b[1;33m(\u001b[0m\u001b[0mcolumns\u001b[0m\u001b[1;33m=\u001b[0m\u001b[1;33m[\u001b[0m\u001b[1;34m'Airline Name'\u001b[0m\u001b[1;33m,\u001b[0m \u001b[1;34m'Year'\u001b[0m\u001b[1;33m,\u001b[0m \u001b[1;34m'Quarter'\u001b[0m\u001b[1;33m]\u001b[0m\u001b[1;33m)\u001b[0m\u001b[1;33m\u001b[0m\u001b[1;33m\u001b[0m\u001b[0m\n\u001b[0m\u001b[0;32m      2\u001b[0m \u001b[1;32mimport\u001b[0m \u001b[0mseaborn\u001b[0m \u001b[1;32mas\u001b[0m \u001b[0msns\u001b[0m\u001b[1;33m\u001b[0m\u001b[1;33m\u001b[0m\u001b[0m\n\u001b[0;32m      3\u001b[0m \u001b[0msns\u001b[0m\u001b[1;33m.\u001b[0m\u001b[0mheatmap\u001b[0m\u001b[1;33m(\u001b[0m\u001b[0mrev_df_new\u001b[0m\u001b[1;33m.\u001b[0m\u001b[0mcorr\u001b[0m\u001b[1;33m(\u001b[0m\u001b[1;33m)\u001b[0m\u001b[1;33m,\u001b[0m \u001b[0mannot\u001b[0m\u001b[1;33m=\u001b[0m\u001b[1;32mTrue\u001b[0m\u001b[1;33m,\u001b[0m \u001b[0mcmap\u001b[0m\u001b[1;33m=\u001b[0m\u001b[1;34m\"coolwarm\"\u001b[0m\u001b[1;33m)\u001b[0m\u001b[1;33m\u001b[0m\u001b[1;33m\u001b[0m\u001b[0m\n",
            "\u001b[1;31mNameError\u001b[0m: name 'rev_df' is not defined"
          ]
        }
      ],
      "source": [
        "rev_df_new = rev_df.drop(columns=['Airline Name', 'Year', 'Quarter'])\n",
        "import seaborn as sns\n",
        "sns.heatmap(rev_df_new.corr(), annot=True, cmap=\"coolwarm\")"
      ]
    },
    {
      "cell_type": "markdown",
      "metadata": {
        "id": "fx2KRQqrQ5cM"
      },
      "source": [
        "## Ticket Price:"
      ]
    },
    {
      "cell_type": "markdown",
      "source": [
        "## Analysing US airlines 2010-2019 ticket price data "
      ],
      "metadata": {
        "id": "LtyvjDHC9-tW"
      }
    },
    {
      "cell_type": "markdown",
      "source": [
        "In this section, we analyse the ticket price data  of domestic flights in the USA between 2010 and 2019.  \n",
        "Our aim is to investigate whether airline ticket prices have a correlation, or any relationship to their CO2 emissions.  \n",
        "We used the open data from the U.S. Department of Tranportation's website:  \n",
        "https://data.transportation.gov/Aviation/Consumer-Airfare-Report-Table-6-Contiguous-State-C/yj5y-b2ir"
      ],
      "metadata": {
        "id": "VKXnaLvd9_Bq"
      }
    },
    {
      "cell_type": "markdown",
      "source": [
        "### Columns in this Dataset\n",
        "    \n",
        "|___Column Name___ |___Description___ |___Type___ |\n",
        "|:------------|:--------------|:-------------|\n",
        "|tbl |Name of the data table |Plain Text|\n",
        "|Year | Year | Number|\n",
        "|quarter | Quarter | Number|\n",
        "| citymarketid_1 | Identification number assigned by US DOT to identify a city market. Use this field to consolidate airports serving the same city market | Number|\n",
        "|citymarketid_2\t|Identification number assigned by US DOT to identify a city market. Use this field to consolidate airports serving the same city market|Number|\n",
        "|city1|City1 is used to consolidate airports serving the same city market|Plain Text\n",
        "|city2\t|City2 is used to consolidate airports serving the same city market|Plain Text\n",
        "|nsmiles|Non-Stop market miles (using radian measure)|Number\n",
        "|passengers\t|Passenger per day|Number\n",
        "|fare | Overall average fare |Number\n",
        "|carrier_lg\t|Carrier with the largest market share |Plain Text\n",
        "|large_ms|Market share for the carrier with the largest market share|Number\n",
        "|fare_lg|Average fare for the carrier with the largest market share|Number\n",
        "|carrier_low|Carrier with the lowest fare|Plain Text\n",
        "|lf_ms\t|Market share for the carrier with the lowest fare|Number\n",
        "|fare_low|Average fare for the carrier with the lowest fare|Number\n",
        "|table_1_flag|Flag for Table 1 subset. Top 1,000 Contiguous State City Pair Markets.|Number\n",
        "|location_1| Geocoded City1 is used to consolidate airports serving the same city market with Latitude and Longitude| Point|\n",
        "|location_1_city|Geocoded_City1 (city)|Plain Text\n",
        "|location_2|Geocoded - City2 is used to consolidate airports serving the same city market with Latitude and Longitude|Point\n",
        "location_2_city|Geocoded_City2 (city)|Plain Text\n",
        "|tbl6pk\t|Primary Key for Table 6, unique id|Number"
      ],
      "metadata": {
        "id": "uxSJ_v8a928_"
      }
    },
    {
      "cell_type": "markdown",
      "source": [
        "### Airline codes\n",
        "|___IATA Code___|___Airline Name___|\n",
        "|:-------------|:-----------------|\n",
        "|AA|American Airlines|\n",
        "|AS|Alaska Airlines|\n",
        "|B6|JetBlue Airways|\n",
        "|CO|North-Western Cargo International Airlines|\n",
        "|DL|Delta Air Lines|\n",
        "|F9|Frontier Airlines|\n",
        "|FL|Air Large European Aviation Project Air Leap|\n",
        "|G4|Allegiant Air| \n",
        "|NK|Spirit Airlines|\n",
        "|UA|United Airlines|\n",
        "|WN|Southwest Airlines|"
      ],
      "metadata": {
        "id": "Jw7HJ59I-X-s"
      }
    },
    {
      "cell_type": "markdown",
      "source": [
        "#### Loading data from API"
      ],
      "metadata": {
        "id": "H7hsaWGv-tMq"
      }
    },
    {
      "cell_type": "code",
      "source": [
        "# import libraries\n",
        "\n",
        "import pandas as pd\n",
        "import seaborn as sns\n",
        "import matplotlib.pyplot as plt\n",
        "%matplotlib inline"
      ],
      "metadata": {
        "id": "H4dvuMRQ-vv_"
      },
      "execution_count": null,
      "outputs": []
    },
    {
      "cell_type": "code",
      "source": [
        "# The sodapy libary needs to be installed for the API request\n",
        "\n",
        "# pip install sodapy"
      ],
      "metadata": {
        "id": "aEnyYm_T-06y"
      },
      "execution_count": null,
      "outputs": []
    },
    {
      "cell_type": "code",
      "source": [
        "# Making an API request, using sodapy package to access the 2010-2019 data\n",
        "\n",
        "from sodapy import Socrata\n",
        "\n",
        "client = Socrata(\"data.transportation.gov\", None)\n",
        "\n",
        "results = client.get(\"yj5y-b2ir\", where='year > 2009 and year < 2020', limit = 600000)"
      ],
      "metadata": {
        "id": "jCoOcF6B-5Rw"
      },
      "execution_count": null,
      "outputs": []
    },
    {
      "cell_type": "markdown",
      "source": [
        "#### Cleaning and transforming data"
      ],
      "metadata": {
        "id": "VQS2Xh19-8sV"
      }
    },
    {
      "cell_type": "code",
      "source": [
        "fare_full_df = pd.DataFrame.from_records(results)"
      ],
      "metadata": {
        "id": "wslTfNY8_BJr"
      },
      "execution_count": null,
      "outputs": []
    },
    {
      "cell_type": "code",
      "source": [
        "fare_full_df.shape"
      ],
      "metadata": {
        "id": "-_8N4YKE_OHC"
      },
      "execution_count": null,
      "outputs": []
    },
    {
      "cell_type": "code",
      "source": [
        "fare_full_df.head()"
      ],
      "metadata": {
        "id": "7mR83ohl_h_w"
      },
      "execution_count": null,
      "outputs": []
    },
    {
      "cell_type": "code",
      "source": [
        "fare_full_df.info()"
      ],
      "metadata": {
        "id": "bAwlF6Hp_kuL"
      },
      "execution_count": null,
      "outputs": []
    },
    {
      "cell_type": "code",
      "source": [
        "# We do not need all the columns from this table\n",
        "# Filter table for relevant information only\n",
        "fare_df = fare_full_df[['year','quarter','city1','city2','nsmiles','passengers','fare',\n",
        "                   'carrier_lg','large_ms','fare_lg','carrier_low','lf_ms','fare_low','tbl6pk']]\n",
        "fare_df.head()"
      ],
      "metadata": {
        "id": "ZH41QWRj_nxW"
      },
      "execution_count": null,
      "outputs": []
    },
    {
      "cell_type": "code",
      "source": [
        "# Convert data types of columns of interest\n",
        "fare_full_df = fare_full_df.astype({'year':'int64', 'quarter':'int64', 'nsmiles':'float64', 'passengers':'float64',\n",
        "                                    'fare':'float64', 'large_ms':'float64', 'fare_lg':'float64', 'lf_ms':'float64',\n",
        "                                    'fare_low':'float64', 'tbl6pk':'int64'})\n",
        "fare_full_df.info()"
      ],
      "metadata": {
        "id": "9evJVUPR_rR7"
      },
      "execution_count": null,
      "outputs": []
    },
    {
      "cell_type": "code",
      "source": [
        "# Print basic info to investigate incomplete data\n",
        "fare_df.info()"
      ],
      "metadata": {
        "id": "NzHfLUkh_wv-"
      },
      "execution_count": null,
      "outputs": []
    },
    {
      "cell_type": "code",
      "source": [
        "# Six columns have three missing data points, we check if they are all in the same three rows.\n",
        "nan_rows = fare_df[fare_df['carrier_lg'].isnull()]\n",
        "nan_rows"
      ],
      "metadata": {
        "id": "Du5tNtQd_0b4"
      },
      "execution_count": null,
      "outputs": []
    },
    {
      "cell_type": "code",
      "source": [
        "# All three rows with missing data have the same departure and arrival cities\n",
        "# We list all the flights with these parameters\n",
        "missing_data_points = fare_df[(fare_df['city1']=='New York City, NY (Metropolitan Area)') & (fare_df['city2']=='Provincetown, MA')]\n",
        "missing_data_points"
      ],
      "metadata": {
        "id": "lQljGGXV_5Mr"
      },
      "execution_count": null,
      "outputs": []
    },
    {
      "cell_type": "code",
      "source": [
        "# The carriers on the other flights are all B6, so we can conclude that this airline serves this route.\n",
        "# We replace NaN values in columns 'carrier_lg' and 'carrier_low' with B6 in the original dataframe\n",
        "\n",
        "fare_full_df.carrier_lg = fare_full_df.carrier_lg.fillna('B6')\n",
        "fare_full_df.carrier_low = fare_full_df.carrier_low.fillna('B6')"
      ],
      "metadata": {
        "id": "iScb6WTu_-Ay"
      },
      "execution_count": null,
      "outputs": []
    },
    {
      "cell_type": "code",
      "source": [
        "# For the numerical value columns: 'large_ms', 'fare_lg', 'lf_ms', 'fare_low'\n",
        "# we cannot use the data of the other flights on the same route, as we only have 3 known data points.\n",
        "# We use the column mean value to replace the missing data points in the original dataframe.\n",
        "\n",
        "fare_full_df.large_ms = fare_full_df.large_ms.fillna(fare_full_df.large_ms.mean())\n",
        "fare_full_df.fare_lg = fare_full_df.fare_lg.fillna(fare_full_df.fare_lg.mean())\n",
        "fare_full_df.lf_ms = fare_full_df.lf_ms.fillna(fare_full_df.lf_ms.mean())\n",
        "fare_full_df.fare_low = fare_full_df.fare_low.fillna(fare_full_df.fare_low.mean())"
      ],
      "metadata": {
        "id": "kwTJUHFNABS5"
      },
      "execution_count": null,
      "outputs": []
    },
    {
      "cell_type": "code",
      "source": [
        "# Checking if there are any more NaN values left.\n",
        "# All values are non-null in every columns.\n",
        "\n",
        "fare_df = fare_full_df[['year','quarter','city1','city2','nsmiles','passengers','fare',\n",
        "                   'carrier_lg','large_ms','fare_lg','carrier_low','lf_ms','fare_low','tbl6pk']]\n",
        "fare_df.info()"
      ],
      "metadata": {
        "id": "V86spwnKAJSx"
      },
      "execution_count": null,
      "outputs": []
    },
    {
      "cell_type": "code",
      "source": [
        "# Save cleaned data\n",
        "fare_full_df.to_csv('us_domestic_fare_full.csv') "
      ],
      "metadata": {
        "id": "t1NZ3xUrAQxR"
      },
      "execution_count": null,
      "outputs": []
    },
    {
      "cell_type": "markdown",
      "source": [
        "#### Analysis"
      ],
      "metadata": {
        "id": "ubdPggjqAVu6"
      }
    },
    {
      "cell_type": "code",
      "source": [
        "# Top 10 airlines by market share (Airline code, Frequency)\n",
        "fare_10ms = (fare_df.carrier_lg.value_counts()).head(10)\n",
        "fare_10ms\n"
      ],
      "metadata": {
        "id": "0InrKKUHAbA3"
      },
      "execution_count": null,
      "outputs": []
    },
    {
      "cell_type": "code",
      "source": [
        "# Restrict data to top 10 airlines only\n",
        "carrier_10ms = ['DL', 'AA', 'UA', 'WN', 'G4', 'AS', 'F9', 'CO', 'B6', 'US']\n",
        "fare10_df = fare_df[fare_df['carrier_lg'].isin(carrier_10ms)]"
      ],
      "metadata": {
        "id": "YrTCRS2AAelh"
      },
      "execution_count": null,
      "outputs": []
    },
    {
      "cell_type": "code",
      "source": [
        "# Calculate quarterly average ticket price per mile\n",
        "fare10_df['price_per_mile'] = fare10_df['fare'] / fare10_df['nsmiles']\n",
        "fare10_df.head()"
      ],
      "metadata": {
        "id": "_qMiOoVEAjGd"
      },
      "execution_count": null,
      "outputs": []
    },
    {
      "cell_type": "code",
      "source": [
        "# Group mean price per mile by airline, year and quarter\n",
        "fare_agg_df = fare10_df.groupby(['carrier_lg', 'year', 'quarter']).agg({'price_per_mile': ['mean']}).reset_index()\n",
        "fare_agg_df.columns = ['carrier_lg', 'year', 'quarter', 'mean_ppm']\n",
        "\n",
        "fare_agg_df.describe()"
      ],
      "metadata": {
        "id": "Z2DsezKDAqc2"
      },
      "execution_count": null,
      "outputs": []
    },
    {
      "cell_type": "code",
      "source": [
        "# Plot mean price per airline to compare price data of different airlines, using a line plot\n",
        "\n",
        "# Group mean price per mile by airline, year and quarter for top 10 airlines\n",
        "fare_agg_df = fare10_df.groupby(['carrier_lg', 'year', 'quarter']).agg({'price_per_mile': ['mean']}).reset_index()\n",
        "fare_agg_df.columns = ['carrier_lg', 'year', 'quarter', 'mean_ppm']\n",
        "\n",
        "# Define index column\n",
        "fare_agg_df.set_index(['year','quarter'], inplace=True)\n",
        "\n",
        "# Group data by carrier and mean price per mile as line chart\n",
        "plt.figure(figsize=(15,12))\n",
        "fare_agg_df.groupby('carrier_lg')['mean_ppm'].plot(legend=True)\n",
        "\n",
        "plt.xlabel('Quarters')\n",
        "plt.ylabel('Average Ticket Price Per Mile')\n",
        "plt.title('Quarterly Average Ticket Price Per Mile 2010-2019', fontsize = 15)\n",
        "plt.legend(loc='center right', bbox_to_anchor=(1.35,0.5))\n",
        "plt.show()"
      ],
      "metadata": {
        "id": "ilyVOtWIAt0w"
      },
      "execution_count": null,
      "outputs": []
    },
    {
      "cell_type": "markdown",
      "source": [
        "The graph shows a wide variation in average ticket price for the different airlines, with a range between 0.13 USD and 0.41 USD per mile. Furthermore the behaviour of the different prices vary from each other. Most of them shows a slightly increasing trend between 2010 and 2019, but there are also ones whose average prices per mile have decreased, such as Frontier Airlines (F9, brown), or stayed largely the same: Allegiant Air (G4, pink).  \n",
        "We can also see a seasonal variation, where prices go up and down during the year. This is most obvious in the case of JetBlue Airways (B6, green) where the prices occasionally halve from one point to the next.  \n",
        "  \n",
        "Note: US Airways (US, yellow) and North-Western Cargo International Airlines (CO, red) stopped operating during our time frame, hence the abrupt end at those lines"
      ],
      "metadata": {
        "id": "JiRQUDhPAxnV"
      }
    },
    {
      "cell_type": "markdown",
      "source": [
        "#### Accessing emission data"
      ],
      "metadata": {
        "id": "Hv10PmglA572"
      }
    },
    {
      "cell_type": "code",
      "source": [
        "# Read revenue vs emission file\n",
        "revemi_data = pd.read_csv('Project_CFG_Rev_Emi_Raw.csv')\n",
        "\n",
        "# Checking data in file\n",
        "revemi_data.info()"
      ],
      "metadata": {
        "id": "lK9Vcq69A--m"
      },
      "execution_count": null,
      "outputs": []
    },
    {
      "cell_type": "code",
      "source": [
        "# Replace airline names with airline codes\n",
        "revemi_data['Airline Name'] = revemi_data['Airline Name'].map({\n",
        "    'Alaska Airlines': 'AS',\n",
        "    'American Airlines': 'AA',\n",
        "    'Delta Air Lines': 'DL',\n",
        "    'Hawaiian Airlines': 'HA',\n",
        "    'JetBlue Airways': 'B6',\n",
        "    'SkyWest Airline': 'OO',\n",
        "    'Southwest Airlines': 'WN',\n",
        "    'Spirit Airlines': 'NK',\n",
        "    'United Airlines': 'UA'  \n",
        "    })\n",
        "\n",
        "# Rename columns in file\n",
        "revemi_data.columns = ['carrier_code', 'year', 'quarter', 'co2_emission_thousand_kg', 'revenue_billion_dollar']\n",
        "\n",
        "revemi_data.head()"
      ],
      "metadata": {
        "id": "HffKX3dIBC8Q"
      },
      "execution_count": null,
      "outputs": []
    },
    {
      "cell_type": "markdown",
      "source": [
        "#### Joining two dataframes"
      ],
      "metadata": {
        "id": "M1VrUXlGBJp3"
      }
    },
    {
      "cell_type": "code",
      "source": [
        "# Add column with price per mile values in main dataframe\n",
        "fare_df['price_per_mile'] = fare_df['fare'] / fare_df['nsmiles']\n",
        "\n",
        "# Group mean price per mile by airline, year and quarter\n",
        "fare_mean_df = fare_df.groupby(['carrier_lg', 'year', 'quarter']).agg({'nsmiles': ['sum'], 'price_per_mile': ['mean']}).reset_index()\n",
        "# Rename columns\n",
        "fare_mean_df.columns = ['carrier_code', 'year', 'quarter', 'nsmiles', 'mean_price_pm']\n",
        "\n",
        "# Merge dataframes: fare_mean_df and revemi_data\n",
        "faremi_df = pd.merge(fare_mean_df, revemi_data,  how='inner', \n",
        "                     left_on=['carrier_code','year','quarter'], right_on = ['carrier_code','year','quarter'])\n",
        "\n",
        "# Standardising CO2 emission and revenue values to be able to compare them to ticket price per mile\n",
        "# Calculate CO2 emission per mile and revenue per mile\n",
        "faremi_df['co2_thousand_kg_pm'] = faremi_df['co2_emission_thousand_kg'] / faremi_df['nsmiles']\n",
        "faremi_df['revenue_thousand_usd_pm'] = (faremi_df['revenue_billion_dollar'] / faremi_df['nsmiles'])*1000000"
      ],
      "metadata": {
        "id": "1GJDyUbKBO3w"
      },
      "execution_count": null,
      "outputs": []
    },
    {
      "cell_type": "code",
      "source": [
        "faremi_df.head()"
      ],
      "metadata": {
        "id": "0ZT1X8yHBT8e"
      },
      "execution_count": null,
      "outputs": []
    },
    {
      "cell_type": "code",
      "source": [
        "faremi_df.describe()"
      ],
      "metadata": {
        "id": "VvOMSwhmBYzz"
      },
      "execution_count": null,
      "outputs": []
    },
    {
      "cell_type": "code",
      "source": [
        "print((faremi_df.carrier_code.value_counts()))"
      ],
      "metadata": {
        "id": "ykLOMeGWBcfc"
      },
      "execution_count": null,
      "outputs": []
    },
    {
      "cell_type": "markdown",
      "source": [
        "#### Analysis"
      ],
      "metadata": {
        "id": "zfXXbt5sBgAI"
      }
    },
    {
      "cell_type": "code",
      "source": [
        "# Calculate attributes correlations\n",
        "faremi_df.corr()"
      ],
      "metadata": {
        "id": "mtm6jFT4Bj4S"
      },
      "execution_count": null,
      "outputs": []
    },
    {
      "cell_type": "markdown",
      "source": [
        "The correlation table shows strong correlations between some of the values, such as total revenue and CO2 emissions (0.97) and non-stop miles and emissions (0.90) and non-stop miles and revenue (0.87). This correlations can be explained by the nature af our data. More airline miles results in higher CO2 emissions and higher revenue for the business.  \n",
        "There are also some weaker correlations, for example between revenue per mile and CO2 emission per mile (0.71) which means that increasing CO2 emission has a slight increasing effect on revenue per mile. The table shows  weak negative correlation between mean ticket price and mile and CO2 emission per mile; -0.65, where a higher CO2 emission would weakly correlate to lower ticket price.  \n",
        "The smallest value in the table is between CO2 emission per mile and yearly quarters (-0.009), shows no correlations between these data."
      ],
      "metadata": {
        "id": "P2HymtLwBuQe"
      }
    },
    {
      "cell_type": "code",
      "source": [
        "# Correlation heatmap\n",
        "plt.figure(figsize = (8,8))\n",
        "corrmat = faremi_df[['year', 'quarter', 'co2_thousand_kg_pm', 'revenue_thousand_usd_pm', 'mean_price_pm']].corr()\n",
        "print(corrmat)\n",
        "sns.heatmap(corrmat, annot = True)"
      ],
      "metadata": {
        "id": "6EyG1cyqByAg"
      },
      "execution_count": null,
      "outputs": []
    },
    {
      "cell_type": "markdown",
      "source": [
        "The heatmap shows positiv correlation of 0.71 between revenue and CO2 emission, as revenue per mile increases CO2 emission per mile also increases.  \n",
        "Average ticket price per mile shows weak negative correlation of -0.65 to CO2 emission per mile, implying that higher ticket prices may result in lower emissions.  \n",
        "There is practically no correlation (-0.009) between CO2 emission rate and the quarters of the year, suggesting that the CO2 gas emitted by aircrafts, per mile, has no seasonal variations during the year."
      ],
      "metadata": {
        "id": "uFQWDLZaB3lJ"
      }
    },
    {
      "cell_type": "markdown",
      "source": [
        "### Investigating the relationship between CO2 emissions and ticket price data for individual airlines"
      ],
      "metadata": {
        "id": "sianovJRB8Ku"
      }
    },
    {
      "cell_type": "code",
      "source": [
        "# Scatter plot to show relationship between CO2 emission per mile and ticket prices per mile, in the USA between 2010 and 2019\n",
        "fig=faremi_df[faremi_df.carrier_code=='AA'].plot(kind='scatter',x='co2_thousand_kg_pm',y='mean_price_pm',color='orange', label='AA')\n",
        "faremi_df[faremi_df.carrier_code=='AS'].plot(kind='scatter',x='co2_thousand_kg_pm',y='mean_price_pm',color='blue', label='AS',ax=fig)\n",
        "faremi_df[faremi_df.carrier_code=='B6'].plot(kind='scatter',x='co2_thousand_kg_pm',y='mean_price_pm',color='green', label='B6',ax=fig)\n",
        "faremi_df[faremi_df.carrier_code=='DL'].plot(kind='scatter',x='co2_thousand_kg_pm',y='mean_price_pm',color='red', label='DL',ax=fig)\n",
        "faremi_df[faremi_df.carrier_code=='NK'].plot(kind='scatter',x='co2_thousand_kg_pm',y='mean_price_pm',color='purple', label='NK',ax=fig)\n",
        "faremi_df[faremi_df.carrier_code=='UA'].plot(kind='scatter',x='co2_thousand_kg_pm',y='mean_price_pm',color='brown', label='UA',ax=fig)\n",
        "faremi_df[faremi_df.carrier_code=='WN'].plot(kind='scatter',x='co2_thousand_kg_pm',y='mean_price_pm',color='pink', label='WN',ax=fig)\n",
        "\n",
        "fig.set_xlabel(\"CO2 Emission per mile\")\n",
        "fig.set_ylabel(\"Ticket Price per mile\")\n",
        "fig.set_title(\"CO2 Emission vs Ticket Price\")\n",
        "fig=plt.gcf()\n",
        "fig.set_size_inches(12,8)\n",
        "plt.show()"
      ],
      "metadata": {
        "id": "tEgl8_TvCA65"
      },
      "execution_count": null,
      "outputs": []
    },
    {
      "cell_type": "markdown",
      "source": [
        "### CO2 Emission vs Ticket Price\n",
        "The scatter plot enables us to investigate CO2 Emission vs Ticket Price data of each airlines separately.  \n",
        "The values of CO2 Emission ranges between 1.02 and 28.72 thousand kg per mile and the values of ticket price ranges between 0.13 and 0.41 USD per mile.  \n",
        "Similarly to the results of correlation matrix and the heatmap, the scatter plot does not show a strong correlation between ticket prices and the airlines' carbon-dioxide emission data in most of the cases.  \n",
        "A slight correlation can be seen in the case of Alaska Airlines (AS, blue); ticket price increase shows some  with increasing CO2 emission, but the data points are within a small range, so any changes in one parameter would only result in a small increase in the other.  \n",
        "Five of the seven investigated airlines have largely similar data, with CO2 emission at the lower end of the range (between 1.0 and 6.0) that coincides with higher ticket prices (between 0.24 and 0.41).  \n",
        "CO2 emission seems to stay within a smaller range for most of the airlines, whereas ticket prices are seem to be more volatile. This seems reasonable, as airlines tend to use the same type of aircrafts all year around, but ticket prices depend on many factors, such as time of the year.  \n",
        "Two airlines show behaviour that is different from the others.\n",
        "JetBlue Airways (B6, green) has more spread out datapoints, with higher emissions (7.0-15.0) and slightly lower prices (0.18-0.37) than the majority of the airlines. Their data points are also more spread out than other airlines'.  \n",
        "Spirit Airlines (NK, purple) has more spread out and higher emission rates (5.0-28.0) that pairs with markedly lower prices (0.13-0.18).  \n",
        "These differences between JetBlue Airways and Spirit Airlines and the rest of the airlines might be the result of them keeping their prices low by not upgrading their outdated fleets.  \n",
        "This plot shows that CO2 emissions and ticket prices do have some negativ correlation, as airlines with higher prices have lower emissions and airlines with lower prices have higher emissions. This is more of a difference between different companies and these parameters do not vary much for individual airlines in most cases."
      ],
      "metadata": {
        "id": "gmVlkBnoCIBz"
      }
    },
    {
      "cell_type": "markdown",
      "source": [
        ""
      ],
      "metadata": {
        "id": "JQbh-PdfCNhe"
      }
    }
  ],
  "metadata": {
    "colab": {
      "name": "ProjectCode.ipynb",
      "provenance": [],
      "include_colab_link": true
    },
    "kernelspec": {
      "display_name": "Python 3",
      "language": "python",
      "name": "python3"
    },
    "language_info": {
      "codemirror_mode": {
        "name": "ipython",
        "version": 3
      },
      "file_extension": ".py",
      "mimetype": "text/x-python",
      "name": "python",
      "nbconvert_exporter": "python",
      "pygments_lexer": "ipython3",
      "version": "3.8.8"
    }
  },
  "nbformat": 4,
  "nbformat_minor": 0
}